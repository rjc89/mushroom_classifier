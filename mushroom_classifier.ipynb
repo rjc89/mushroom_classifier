{
  "nbformat": 4,
  "nbformat_minor": 0,
  "metadata": {
    "colab": {
      "name": "mushroom_classifier.ipynb",
      "provenance": [],
      "collapsed_sections": [
        "OyNez3Asg65S"
      ],
      "authorship_tag": "ABX9TyNbmMaRUU0yPg5bGFe2VflD",
      "include_colab_link": true
    },
    "kernelspec": {
      "name": "python3",
      "display_name": "Python 3"
    }
  },
  "cells": [
    {
      "cell_type": "markdown",
      "metadata": {
        "id": "view-in-github",
        "colab_type": "text"
      },
      "source": [
        "<a href=\"https://colab.research.google.com/github/rjc89/mushroom_classifier/blob/master/mushroom_classifier.ipynb\" target=\"_parent\"><img src=\"https://colab.research.google.com/assets/colab-badge.svg\" alt=\"Open In Colab\"/></a>"
      ]
    },
    {
      "cell_type": "code",
      "metadata": {
        "id": "3NrvNpISWTEm",
        "colab_type": "code",
        "colab": {
          "base_uri": "https://localhost:8080/",
          "height": 124
        },
        "outputId": "8e63a7fe-2117-415f-986a-9673befceb5d"
      },
      "source": [
        "from google.colab import drive\n",
        "drive.mount('/content/drive')"
      ],
      "execution_count": null,
      "outputs": [
        {
          "output_type": "stream",
          "text": [
            "Go to this URL in a browser: https://accounts.google.com/o/oauth2/auth?client_id=947318989803-6bn6qk8qdgf4n4g3pfee6491hc0brc4i.apps.googleusercontent.com&redirect_uri=urn%3aietf%3awg%3aoauth%3a2.0%3aoob&response_type=code&scope=email%20https%3a%2f%2fwww.googleapis.com%2fauth%2fdocs.test%20https%3a%2f%2fwww.googleapis.com%2fauth%2fdrive%20https%3a%2f%2fwww.googleapis.com%2fauth%2fdrive.photos.readonly%20https%3a%2f%2fwww.googleapis.com%2fauth%2fpeopleapi.readonly\n",
            "\n",
            "Enter your authorization code:\n",
            "··········\n",
            "Mounted at /content/drive\n"
          ],
          "name": "stdout"
        }
      ]
    },
    {
      "cell_type": "markdown",
      "metadata": {
        "id": "43eNqN1kXp0T",
        "colab_type": "text"
      },
      "source": [
        "## Scraping training data from google image search"
      ]
    },
    {
      "cell_type": "markdown",
      "metadata": {
        "id": "_T1XA7BdclaT",
        "colab_type": "text"
      },
      "source": [
        "https://forums.fast.ai/t/tips-for-building-large-image-datasets/26688/80\n",
        "\n",
        "https://stackoverflow.com/questions/60370799/google-image-download-with-python-cannot-download-images"
      ]
    },
    {
      "cell_type": "code",
      "metadata": {
        "id": "FAXDEPOKX9fh",
        "colab_type": "code",
        "colab": {
          "base_uri": "https://localhost:8080/",
          "height": 259
        },
        "outputId": "28196511-bb53-485a-d5d3-1e92e22a1c3d"
      },
      "source": [
        "#!pip install google_images_download\n",
        "#!pip install git+https://github.com/hardikvasa/google-images-download.git # original\n",
        "#!pip install git+https://github.com/Joeclinton1/google-images-download.git # patched\n",
        "!pip install git+https://github.com/rjc89/google-images-download.git # patch for issue https://github.com/hardikvasa/google-images-download/issues/321"
      ],
      "execution_count": null,
      "outputs": [
        {
          "output_type": "stream",
          "text": [
            "Collecting git+https://github.com/rjc89/google-images-download.git\n",
            "  Cloning https://github.com/rjc89/google-images-download.git to /tmp/pip-req-build-g631mywb\n",
            "  Running command git clone -q https://github.com/rjc89/google-images-download.git /tmp/pip-req-build-g631mywb\n",
            "Collecting selenium\n",
            "\u001b[?25l  Downloading https://files.pythonhosted.org/packages/80/d6/4294f0b4bce4de0abf13e17190289f9d0613b0a44e5dd6a7f5ca98459853/selenium-3.141.0-py2.py3-none-any.whl (904kB)\n",
            "\u001b[K     |████████████████████████████████| 911kB 2.8MB/s \n",
            "\u001b[?25hRequirement already satisfied: urllib3 in /usr/local/lib/python3.6/dist-packages (from selenium->google-images-download==2.8.0) (1.24.3)\n",
            "Building wheels for collected packages: google-images-download\n",
            "  Building wheel for google-images-download (setup.py) ... \u001b[?25l\u001b[?25hdone\n",
            "  Created wheel for google-images-download: filename=google_images_download-2.8.0-py2.py3-none-any.whl size=15058 sha256=c3193077556464a6a5196d9db64d89376588e2fbec57c1c618e7063f45cdf9f7\n",
            "  Stored in directory: /tmp/pip-ephem-wheel-cache-bpw4v70k/wheels/e0/8e/b9/7177d6a21b2fc7644a735bb413a57ffe57c59cfa2dd55c51e5\n",
            "Successfully built google-images-download\n",
            "Installing collected packages: selenium, google-images-download\n",
            "Successfully installed google-images-download-2.8.0 selenium-3.141.0\n"
          ],
          "name": "stdout"
        }
      ]
    },
    {
      "cell_type": "code",
      "metadata": {
        "id": "4udsquk5a60z",
        "colab_type": "code",
        "colab": {
          "base_uri": "https://localhost:8080/",
          "height": 242
        },
        "outputId": "1faf26c1-da4e-4995-b6bd-d0927369d0b8"
      },
      "source": [
        "!wget https://chromedriver.storage.googleapis.com/2.24/chromedriver_linux64.zip && unzip chromedriver_linux64"
      ],
      "execution_count": null,
      "outputs": [
        {
          "output_type": "stream",
          "text": [
            "--2020-07-02 15:16:14--  https://chromedriver.storage.googleapis.com/2.24/chromedriver_linux64.zip\n",
            "Resolving chromedriver.storage.googleapis.com (chromedriver.storage.googleapis.com)... 64.233.188.128, 2404:6800:4008:c06::80\n",
            "Connecting to chromedriver.storage.googleapis.com (chromedriver.storage.googleapis.com)|64.233.188.128|:443... connected.\n",
            "HTTP request sent, awaiting response... 200 OK\n",
            "Length: 3116161 (3.0M) [application/zip]\n",
            "Saving to: ‘chromedriver_linux64.zip’\n",
            "\n",
            "\rchromedriver_linux6   0%[                    ]       0  --.-KB/s               \rchromedriver_linux6 100%[===================>]   2.97M  --.-KB/s    in 0.03s   \n",
            "\n",
            "2020-07-02 15:16:14 (92.7 MB/s) - ‘chromedriver_linux64.zip’ saved [3116161/3116161]\n",
            "\n",
            "Archive:  chromedriver_linux64.zip\n",
            "  inflating: chromedriver            \n"
          ],
          "name": "stdout"
        }
      ]
    },
    {
      "cell_type": "code",
      "metadata": {
        "id": "N1yq5RdGet8R",
        "colab_type": "code",
        "colab": {}
      },
      "source": [
        "chromedriver_path = \"/content/chromedriver\"\n",
        "#search_queries = [\"Boletus\", \"Pleurotus\", \"Agaricus\", \"Macrolepiota\", \"Cantharellus\", \"Amanita\", \"Laetiporus\"]"
      ],
      "execution_count": null,
      "outputs": []
    },
    {
      "cell_type": "code",
      "metadata": {
        "id": "CoFvTO7kN6Dn",
        "colab_type": "code",
        "colab": {}
      },
      "source": [
        "# from google_images_download import google_images_download #importing the library\n",
        "# response = google_images_download.googleimagesdownload() #class instantiation\n",
        "# arguments = {\"keywords\":\"Polar bears,baloons,Beaches\",\"limit\":20,\"print_urls\":True} #creating list of arguments\n",
        "# paths = response.download(arguments) #passing the arguments to the function\n",
        "# print(paths) #printing absolute paths of the downloaded images"
      ],
      "execution_count": null,
      "outputs": []
    },
    {
      "cell_type": "code",
      "metadata": {
        "id": "4un8CM_Yeati",
        "colab_type": "code",
        "colab": {}
      },
      "source": [
        "#!googleimagesdownload --keywords search_terms -s medium -o /content/downloads -cd {chromedriver_path}"
      ],
      "execution_count": null,
      "outputs": []
    },
    {
      "cell_type": "code",
      "metadata": {
        "id": "NbUfr8b9U8La",
        "colab_type": "code",
        "colab": {}
      },
      "source": [
        "# from google_images_download import google_images_download   #importing the library\n",
        "\n",
        "# response = google_images_download.googleimagesdownload()   #class instantiation\n",
        "\n",
        "# arguments = {\"keywords\":\"Boletus, Pleurotus, Agaricus, Macrolepiota, Cantharellus, Amanita, Laetiporus\",\"limit\":100,\"print_urls\":True}   #creating list of arguments"
      ],
      "execution_count": null,
      "outputs": []
    },
    {
      "cell_type": "code",
      "metadata": {
        "id": "l-YM6tQLVZd3",
        "colab_type": "code",
        "colab": {}
      },
      "source": [
        "# #paths = \n",
        "# response.download(arguments)   #passing the arguments to the function\n",
        "# # print(paths)   #printing absolute paths of the downloaded images"
      ],
      "execution_count": null,
      "outputs": []
    },
    {
      "cell_type": "code",
      "metadata": {
        "id": "IW_MrNvRixSS",
        "colab_type": "code",
        "colab": {
          "base_uri": "https://localhost:8080/",
          "height": 1000
        },
        "outputId": "52a6b42a-76d3-4d72-e1d2-ddfb24b302f4"
      },
      "source": [
        "# importing google_images_download module \n",
        "from google_images_download import google_images_download  \n",
        "  \n",
        "# creating object \n",
        "response = google_images_download.googleimagesdownload()  \n",
        "  \n",
        "search_queries = [\"Boletus\", \"Pleurotus\", \"Agaricus\", \"Macrolepiota\", \"Cantharellus\", \"Amanita\", \"Laetiporus\"]\n",
        "  \n",
        "  \n",
        "def downloadimages(query): \n",
        "    # keywords is the search query \n",
        "    # format is the image file format \n",
        "    # limit is the number of images to be downloaded \n",
        "    # print urs is to print the image file url \n",
        "    # size is the image size which can \n",
        "    # be specified manually (\"large, medium, icon\") \n",
        "    # aspect ratio denotes the height width ratio \n",
        "    # of images to download. (\"tall, square, wide, panoramic\") \n",
        "    # arguments = {\"keywords\": query, \n",
        "    #              \"format\": \"jpg\", \n",
        "    #              \"limit\":100, \n",
        "    #              \"print_urls\":True, \n",
        "    #              \"size\": \"medium\", \n",
        "    #              \"aspect_ratio\":\"panoramic\"} \n",
        "    \n",
        "    arguments = {\"keywords\": query, \n",
        "                 \"format\": \"jpg\", \n",
        "                 \"limit\":100, \n",
        "                 \"print_urls\":True} \n",
        "    try: \n",
        "        response.download(arguments)\n",
        "        \n",
        "    # Handling File NotFound Error     \n",
        "    except FileNotFoundError:  \n",
        "        arguments = {\"keywords\": query, \n",
        "                     \"format\": \"jpg\", \n",
        "                     \"limit\":100, \n",
        "                     \"print_urls\":True}\n",
        "\n",
        "    # except UnicodeDecodeError:  \n",
        "    #     arguments = {\"keywords\": query, \n",
        "    #                  \"format\": \"jpg\", \n",
        "    #                  \"limit\":100, \n",
        "    #                  \"print_urls\":True,  \n",
        "    #                  \"size\": \"medium\"}\n",
        "                       \n",
        "        # Providing arguments for the searched query \n",
        "        try: \n",
        "            # Downloading the photos based \n",
        "            # on the given arguments \n",
        "            response.download(arguments)\n",
        "\n",
        "        except: \n",
        "            pass\n",
        "  \n",
        "# Driver Code \n",
        "for query in search_queries: \n",
        "    downloadimages(query)  \n",
        "    print()  "
      ],
      "execution_count": null,
      "outputs": [
        {
          "output_type": "stream",
          "text": [
            "\n",
            "Item no.: 1 --> Item name = Boletus\n",
            "Evaluating...\n",
            "Starting Download...\n",
            "Image URL: https://upload.wikimedia.org/wikipedia/commons/1/19/Boletus_edulis1.jpg\n",
            "Completed Image ====> 1.Boletus_edulis1.jpg\n",
            "Image URL: https://upload.wikimedia.org/wikipedia/commons/b/b0/Boletus_edulis_EtgHollande_041031_091.jpg\n",
            "Completed Image ====> 2.Boletus_edulis_EtgHollande_041031_091.jpg\n",
            "Image URL: https://i.ebayimg.com/images/g/b1gAAOSww4ldd2mN/s-l640.jpg\n",
            "Completed Image ====> 3.s-l640.jpg\n",
            "Image URL: https://www.mykoweb.com/CAF/photos/large/Boletus_edulis_mgw-07.jpg\n",
            "Completed Image ====> 4.Boletus_edulis_mgw-07.jpg\n",
            "Image URL: https://www.first-nature.com/fungi/images/boletaceae/boletus-edulis8.jpg\n",
            "Completed Image ====> 5.boletus-edulis8.jpg\n",
            "Image URL: https://lh4.googleusercontent.com/-ZwM7G0qnDDw/UD-PCQePiRI/AAAAAAAAB-M/ptJ7tsDjAS0/s320/Boletus%2Bpinophilus%2B2002%2B2.JPG\n",
            "Wrong image format returned. Skipping...\n",
            "Image URL: https://www.monaconatureencyclopedia.com/wp-content/uploads/2008/08/jpg_Carne_bianca_e_compatta-_Crudo_o_cotto_e_senza_dubbio_fra_i_funghi_piu_ambiti_c_Giuseppe_Mazza.jpg\n",
            "Completed Image ====> 6.jpg_Carne_bianca_e_compatta-_Crudo_o_cotto_e_senza_dubbio_fra_i_funghi_piu_ambiti_c_Giuseppe_Mazza.jpg\n",
            "Image URL: https://i.ytimg.com/vi/OVhiZaCcPPY/maxresdefault.jpg\n",
            "Completed Image ====> 7.maxresdefault.jpg\n",
            "Image URL: https://www.first-nature.com/fungi/images/boletaceae/boletus-edulis1.jpg\n",
            "Completed Image ====> 8.boletus-edulis1.jpg\n",
            "Image URL: https://www.nybg.org/blogs/science-talk/content/uploads/2014/09/Boletus_austroedulis.jpeg\n",
            "Wrong image format returned. Skipping...\n",
            "Image URL: https://images-na.ssl-images-amazon.com/images/I/71zsA5wv0-L._AC_SX450_.jpg\n",
            "Completed Image ====> 9.71zsA5wv0-L._AC_SX450_.jpg\n",
            "Image URL: https://upload.wikimedia.org/wikipedia/commons/b/b6/Boletus_rubriceps_Arizona.jpg\n",
            "Completed Image ====> 10.Boletus_rubriceps_Arizona.jpg\n",
            "Image URL: http://archive.bio.ed.ac.uk/jdeacon/FungalBiology/cep1.jpg\n",
            "Completed Image ====> 11.cep1.jpg\n",
            "Image URL: https://upload.wikimedia.org/wikipedia/commons/5/5b/Boletus_edulis_var._grandedulis_27911.jpg\n",
            "Completed Image ====> 12.Boletus_edulis_var._grandedulis_27911.jpg\n",
            "Image URL: http://www.mykoweb.com/CAF/photos/large/Boletus_rex-veris_mgw-09.jpg\n",
            "Completed Image ====> 13.Boletus_rex-veris_mgw-09.jpg\n",
            "Image URL: http://iucn.ekoo.se/assets/uploads/55db4-Boletus-rhodopurpureus-06082017-01.JPG\n",
            "Wrong image format returned. Skipping...\n",
            "Image URL: https://live.staticflickr.com/806/40687288044_670bdd2c08_b.jpg\n",
            "Completed Image ====> 14.40687288044_670bdd2c08_b.jpg\n",
            "Image URL: https://i2.wp.com/boletes.wpamushroomclub.org/wp-content/uploads/2015/07/Boletus-discolor-Terry-Stoleson.jpg?fit=1200%2C900&ssl=1\n",
            "Wrong image format returned. Skipping...\n",
            "Image URL: https://namyco.org/photos/1037_02172015220554.jpg\n",
            "Completed Image ====> 15.1037_02172015220554.jpg\n",
            "Image URL: https://www.first-nature.com/fungi/images/boletaceae/boletus-edulis7.jpg\n",
            "Completed Image ====> 16.boletus-edulis7.jpg\n",
            "Image URL: https://upload.wikimedia.org/wikipedia/commons/thumb/d/d3/Boletus_pallidoroseus_245628.jpg/640px-Boletus_pallidoroseus_245628.jpg\n",
            "Completed Image ====> 17.640px-Boletus_pallidoroseus_245628.jpg\n",
            "Image URL: https://alchetron.com/cdn/boletus-aereus-8438b7d3-d4bd-4419-a461-65b5be2128b-resize-750.jpeg\n",
            "Wrong image format returned. Skipping...\n",
            "Image URL: https://images-na.ssl-images-amazon.com/images/I/81JZqGkOawL._AC_SX450_.jpg\n",
            "Completed Image ====> 18.81JZqGkOawL._AC_SX450_.jpg\n",
            "Image URL: https://live.staticflickr.com/1722/41886439025_da9dcd7aee_b.jpg\n",
            "Completed Image ====> 19.41886439025_da9dcd7aee_b.jpg\n",
            "Image URL: http://regiuplant.ro/wp-content/uploads/2017/02/hribi-2.jpg\n",
            "Completed Image ====> 20.hribi-2.jpg\n",
            "Image URL: http://website.nbm-mnb.ca/mycologywebpages/NaturalHistoryOfFungi/Illustrations/Boletus_edulis.jpg\n",
            "Completed Image ====> 21.Boletus_edulis.jpg\n",
            "Image URL: https://media.sciencephoto.com/b2/50/07/61/b2500761-800px-wm.jpg\n",
            "Completed Image ====> 22.b2500761-800px-wm.jpg\n",
            "Image URL: https://www.wildfooduk.com/wp-content/uploads/2018/06/Summer-1-1.jpg\n",
            "Completed Image ====> 23.Summer-1-1.jpg\n",
            "Image URL: https://upload.wikimedia.org/wikipedia/commons/7/7a/Boletus_subvelutipes_260428.jpg\n",
            "Completed Image ====> 24.Boletus_subvelutipes_260428.jpg\n",
            "Image URL: https://cdn.britannica.com/51/124151-004-3D2918CE/Boletus-satanas.jpg\n",
            "Completed Image ====> 25.Boletus-satanas.jpg\n",
            "Image URL: https://antropocene.it/wp-content/uploads/2018/11/Boletus_appendiculatus-800x445.jpg\n",
            "Completed Image ====> 26.Boletus_appendiculatus-800x445.jpg\n",
            "Image URL: http://scmycoflora.org/genera/boletus/images/Boletus-edulis_0.jpg\n",
            "Completed Image ====> 27.Boletus-edulis_0.jpg\n",
            "Image URL: https://i1.wp.com/boletes.wpamushroomclub.org/wp-content/uploads/2018/10/Boletus-aurantioruber-portrait-Bill-Yule.jpg?fit=720%2C960&ssl=1\n",
            "Wrong image format returned. Skipping...\n",
            "Image URL: https://www.featurepics.com/StockImage/20110707/boletus-stock-picture-1936188.jpg\n",
            "Completed Image ====> 28.boletus-stock-picture-1936188.jpg\n",
            "Image URL: https://blog.mycology.cornell.edu/files/2009/06/boletusedulis-crop1.jpg\n",
            "Completed Image ====> 29.boletusedulis-crop1.jpg\n",
            "Image URL: https://www.mushroomexpert.com/images/contrib/schmudde_boletus_edulis_01.jpg\n",
            "Completed Image ====> 30.schmudde_boletus_edulis_01.jpg\n",
            "Image URL: https://www.first-nature.com/fungi/images/boletaceae/boletus-aereus1.jpg\n",
            "Completed Image ====> 31.boletus-aereus1.jpg\n",
            "Image URL: http://www.mykoweb.com/CAF/photos/large/Boletus_fibrillosus_mgw-04.jpg\n",
            "Completed Image ====> 32.Boletus_fibrillosus_mgw-04.jpg\n",
            "Image URL: http://3.bp.blogspot.com/-CTw06m43ag4/TkrSIqKtgWI/AAAAAAAABWE/eJi2p16Hn30/s1600/Boletus+barrowsii.jpg\n",
            "Completed Image ====> 33.Boletus+barrowsii.jpg\n",
            "Image URL: https://www.mushroomexpert.com/images/kuo4/boletus_edulis_02.jpg\n",
            "Completed Image ====> 34.boletus_edulis_02.jpg\n",
            "Image URL: https://www.zoology.ubc.ca/~biodiv/mushroom/img/B_edulis/B_edulis-annotated.jpg\n",
            "Completed Image ====> 35.B_edulis-annotated.jpg\n",
            "Image URL: https://mushring.com/wp-content/uploads/2017/05/Boletus-reticulatus-1-772x347.jpg\n",
            "Completed Image ====> 36.Boletus-reticulatus-1-772x347.jpg\n",
            "Image URL: http://boletales.com/wp-content/uploads/2010/10/B_fragrans_0.jpg\n",
            "Completed Image ====> 37.B_fragrans_0.jpg\n",
            "Image URL: https://upload.wikimedia.org/wikipedia/commons/thumb/a/a3/Boletus_edulis_%28Tillegem%29.jpg/200px-Boletus_edulis_%28Tillegem%29.jpg\n",
            "Completed Image ====> 38.200px-Boletus_edulis_%28Tillegem%29.jpg\n",
            "Image URL: https://www.monaconatureencyclopedia.com/wp-content/uploads/2008/08/jpg_Il_reticolo_che_si_estende_su_tutto_il_gambo-_Ottimo_commestibile_anche_crudo_c_Mazza.jpg\n",
            "Completed Image ====> 39.jpg_Il_reticolo_che_si_estende_su_tutto_il_gambo-_Ottimo_commestibile_anche_crudo_c_Mazza.jpg\n",
            "Image URL: https://content.eol.org/data/media/89/cb/03/549.BI-image-32031.jpg\n",
            "Completed Image ====> 40.549.BI-image-32031.jpg\n",
            "Image URL: https://www.wildfooduk.com/wp-content/uploads/2017/06/Boletus-rubella.jpg\n",
            "Completed Image ====> 41.Boletus-rubella.jpg\n",
            "Image URL: http://www.mendonomasightings.com/wp-content/uploads/2016/10/A-treasure-trove-of-Boletus-edulis-by-Irma-Brandt.jpg\n",
            "Completed Image ====> 42.A-treasure-trove-of-Boletus-edulis-by-Irma-Brandt.jpg\n",
            "Image URL: https://healing-mushrooms.net/wp-content/uploads/2018/06/Boletus_badius.jpg\n",
            "Completed Image ====> 43.Boletus_badius.jpg\n",
            "Image URL: https://i.ytimg.com/vi/llzU1T36Mk4/hqdefault.jpg\n",
            "Completed Image ====> 44.hqdefault.jpg\n",
            "Image URL: https://c8.alamy.com/comp/DAK5AG/summer-bolete-summer-cep-boletus-reticulatus-boletus-aestivalis-germany-DAK5AG.jpg\n",
            "Completed Image ====> 45.summer-bolete-summer-cep-boletus-reticulatus-boletus-aestivalis-germany-DAK5AG.jpg\n",
            "Image URL: http://boletales.com/wp-content/uploads/2010/10/B_pseudosulphureus_1.jpg\n",
            "Completed Image ====> 46.B_pseudosulphureus_1.jpg\n",
            "Image URL: http://scmycoflora.org/genera/boletus/images/Boletus-barrowsii_5.jpg\n",
            "Completed Image ====> 47.Boletus-barrowsii_5.jpg\n",
            "Image URL: https://files.stocky.ai/uploads/2019/04/image-Boletus-edulis-Fungus-in-the-natural-environment-stocky-ai-26697366.jpg\n",
            "Completed Image ====> 48.image-Boletus-edulis-Fungus-in-the-natural-environment-stocky-ai-26697366.jpg\n",
            "Image URL: https://www.nybg.org/blogs/science-talk/content/uploads/2014/09/Boletus_albobrunnescens.jpeg\n",
            "Wrong image format returned. Skipping...\n",
            "Image URL: https://upload.wikimedia.org/wikipedia/commons/thumb/d/d3/Boletus_aereusBG.JPG/1200px-Boletus_aereusBG.JPG\n",
            "Wrong image format returned. Skipping...\n",
            "Image URL: https://www.gastronomiavasca.net/uploads/image/file/6298/Boletus_edulis1.jpg\n",
            "Completed Image ====> 49.Boletus_edulis1.jpg\n",
            "Image URL: https://ctl.s6img.com/society6/img/CLx-CoaO9BZYzqsed_5nqQI27-M/w_1500/cards/~artwork,fw_1300,fh_2000,iw_1300,ih_2000/s6-0005/asset_15/467153_2hEwRJGlpL/~~/wild-mushroom-boletus-edulis-porcini-cards.jpg\n",
            "Completed Image ====> 50.wild-mushroom-boletus-edulis-porcini-cards.jpg\n",
            "\n",
            "Errors: 8\n",
            "\n",
            "\n",
            "\n",
            "Item no.: 1 --> Item name = Pleurotus\n",
            "Evaluating...\n",
            "Starting Download...\n",
            "Image URL: https://upload.wikimedia.org/wikipedia/commons/9/94/Oyster_mushoom_fells.jpg\n",
            "Completed Image ====> 1.Oyster_mushoom_fells.jpg\n",
            "Image URL: https://content.eol.org/data/media/55/51/5b/509.10632877.jpg\n",
            "Completed Image ====> 2.509.10632877.jpg\n",
            "Image URL: https://www.first-nature.com/fungi/images/pleurotaceae/pleurotus-ostreatus3.jpg\n",
            "Completed Image ====> 3.pleurotus-ostreatus3.jpg\n",
            "Image URL: https://cdn.shopify.com/s/files/1/0003/0041/7038/products/lcttpo_1000x1000.jpg?v=1571610226\n",
            "Wrong image format returned. Skipping...\n",
            "Image URL: https://cdn.shopify.com/s/files/1/0003/0041/7038/products/lcttpe_700x700.jpg?v=1571610226\n",
            "Wrong image format returned. Skipping...\n",
            "Image URL: https://static.inaturalist.org/photos/157272/large.jpg?1545372961\n",
            "Wrong image format returned. Skipping...\n",
            "Image URL: https://images-na.ssl-images-amazon.com/images/I/51UFJvy6edL._AC_SX450_.jpg\n",
            "Completed Image ====> 4.51UFJvy6edL._AC_SX450_.jpg\n",
            "Image URL: https://upload.wikimedia.org/wikipedia/commons/thumb/f/f6/Pleurotus_ostreatus_JPG7.jpg/1200px-Pleurotus_ostreatus_JPG7.jpg\n",
            "Completed Image ====> 5.1200px-Pleurotus_ostreatus_JPG7.jpg\n",
            "Image URL: https://images-na.ssl-images-amazon.com/images/I/71Tou7SEDwL._AC_SX450_.jpg\n",
            "Completed Image ====> 6.71Tou7SEDwL._AC_SX450_.jpg\n",
            "Image URL: https://www.first-nature.com/fungi/images/pleurotaceae/pleurotus-dryinus5.jpg\n",
            "Completed Image ====> 7.pleurotus-dryinus5.jpg\n",
            "Image URL: https://www.mushroomexpert.com/images/kuo6/pleurotus_pulmonarius_03.jpg\n",
            "Completed Image ====> 8.pleurotus_pulmonarius_03.jpg\n",
            "Image URL: https://upload.wikimedia.org/wikipedia/commons/thumb/2/2d/Pleurotus_ostreatus_-_Pleurote_en_hu%C3%AEtre.jpg/1200px-Pleurotus_ostreatus_-_Pleurote_en_hu%C3%AEtre.jpg\n",
            "Completed Image ====> 9.1200px-Pleurotus_ostreatus_-_Pleurote_en_hu%C3%AEtre.jpg\n",
            "Image URL: https://www.mushroomexpert.com/images/kuo6/pleurotus_pulmonarius_02.jpg\n",
            "Completed Image ====> 10.pleurotus_pulmonarius_02.jpg\n",
            "Image URL: https://upload.wikimedia.org/wikipedia/commons/b/be/Oyster_Mushroom_-_Pleurotus_ostreatus_%2826143987708%29.jpg\n",
            "Completed Image ====> 11.Oyster_Mushroom_-_Pleurotus_ostreatus_%2826143987708%29.jpg\n",
            "Image URL: https://www.fieldforest.net/images/popup/oyster-pohu-substrates-1.jpg\n",
            "Completed Image ====> 12.oyster-pohu-substrates-1.jpg\n",
            "Image URL: http://www.mykoweb.com/CAF/photos/large/Pleurotus_ostreatus%28mgw-02%29.jpg\n",
            "Completed Image ====> 13.Pleurotus_ostreatus%28mgw-02%29.jpg\n",
            "Image URL: https://previews.123rf.com/images/photographieundmehr/photographieundmehr1702/photographieundmehr170200082/71987661-oyster-mushroom-pleurotus-ostreatus-young-mushrooms-on-substrate-isolated-against-white-background.jpg\n",
            "Completed Image ====> 14.71987661-oyster-mushroom-pleurotus-ostreatus-young-mushrooms-on-substrate-isolated-against-white-background.jpg\n",
            "Image URL: https://content.eol.org/data/media/7e/cd/68/542.19216460702.jpg\n",
            "Completed Image ====> 15.542.19216460702.jpg\n",
            "Image URL: https://gluckspilze.com/media/image/product/946/lg/king-oyster-mushroomi-sawdust-spawn-for-organic-growing.jpg\n",
            "Completed Image ====> 16.king-oyster-mushroomi-sawdust-spawn-for-organic-growing.jpg\n",
            "Image URL: https://i.ebayimg.com/images/g/6bUAAOSwsN9XDUEi/s-l640.jpg\n",
            "Completed Image ====> 17.s-l640.jpg\n",
            "Image URL: http://www.mykoweb.com/CAF/photos/large/Pleurotus_ostreatus_bk-01.jpg\n",
            "Completed Image ====> 18.Pleurotus_ostreatus_bk-01.jpg\n",
            "Image URL: https://image.jimcdn.com/app/cms/image/transf/dimension=origxorig:format=jpg/path/sdccc40e06c1472d8/image/if4a16f750b5d3fd5/version/1359151265/oyster-mushrooms-pleurotus-ostreatus.jpg\n",
            "Completed Image ====> 19.oyster-mushrooms-pleurotus-ostreatus.jpg\n",
            "Image URL: https://www.fieldforest.net/images/popup/oyster-grey-dove-substrates-1.jpg\n",
            "Completed Image ====> 20.oyster-grey-dove-substrates-1.jpg\n",
            "Image URL: https://upload.wikimedia.org/wikipedia/commons/2/29/Pleurotus_citrinopileatus_at_Chatama%27s_home.jpg\n",
            "Completed Image ====> 21.Pleurotus_citrinopileatus_at_Chatama%27s_home.jpg\n",
            "Image URL: https://c8.alamy.com/comp/KAG02H/oyster-mushroom-pleurotus-ostreatus-fruiting-bodies-on-beech-trunk-KAG02H.jpg\n",
            "Completed Image ====> 22.oyster-mushroom-pleurotus-ostreatus-fruiting-bodies-on-beech-trunk-KAG02H.jpg\n",
            "Image URL: https://cdn.shopify.com/s/files/1/0014/4385/6439/products/Pleurotus_citrinopileatus_1024x1024.jpg?v=1527708430\n",
            "Wrong image format returned. Skipping...\n",
            "Image URL: https://www.messiah.edu/Oakes/fungi_on_wood/gilled%20fungi/images/Pleurotus-pulmonarius-Amber-Wingert.jpg\n",
            "Completed Image ====> 23.Pleurotus-pulmonarius-Amber-Wingert.jpg\n",
            "Image URL: https://everythingmushrooms.com/wp-content/uploads/images/products/products-elm_kit__81673.1382037658.1280.1280.jpg\n",
            "Completed Image ====> 24.products-elm_kit__81673.1382037658.1280.1280.jpg\n",
            "Image URL: https://www.mushroomsweb.com/assets/images/abalone-mushrooms.jpg\n",
            "URLError on an image...trying next one... Error: <urlopen error _ssl.c:835: The handshake operation timed out>\n",
            "Image URL: https://i.etsystatic.com/18376711/r/il/80cc51/1698323299/il_570xN.1698323299_ho28.jpg\n",
            "Completed Image ====> 25.il_570xN.1698323299_ho28.jpg\n",
            "Image URL: https://www.first-nature.com/fungi/images/pleurotaceae/pleurotus-ostreatus1.jpg\n",
            "Completed Image ====> 26.pleurotus-ostreatus1.jpg\n",
            "Image URL: http://static1.squarespace.com/static/571d3651f8baf3a83d8c05f4/571d3914a3360c282c6a01a9/5964ceaf414fb52a415ddc53/1576789519347/?format=1500w\n",
            "Wrong image format returned. Skipping...\n",
            "Image URL: https://cdn.shopify.com/s/files/1/0003/0041/7038/products/lcttpoc_700x700.jpg?v=1571610226\n",
            "Wrong image format returned. Skipping...\n",
            "Image URL: https://www.mycocultures.com/wp-content/uploads/2017/02/POB2.jpg\n",
            "Completed Image ====> 27.POB2.jpg\n",
            "Image URL: https://healing-mushrooms.net/wp-content/uploads/2020/02/Pleurotus-Pulmonarius.jpg\n",
            "Completed Image ====> 28.Pleurotus-Pulmonarius.jpg\n",
            "Image URL: https://previews.123rf.com/images/photographieundmehr/photographieundmehr1702/photographieundmehr170200089/71987657-oyster-mushroom-pleurotus-ostreatus-young-mushrooms-isolated-against-white-background.jpg\n",
            "Completed Image ====> 29.71987657-oyster-mushroom-pleurotus-ostreatus-young-mushrooms-isolated-against-white-background.jpg\n",
            "Image URL: https://www.mediamatic.net/image/2016/12/14/grey_oyster.jpg%28%29%28E5F39A52AB7DEEFCD6D05BEA255F170F%29.jpg\n",
            "Completed Image ====> 30.grey_oyster.jpg\n",
            "Image URL: https://www.hekmacenter.com/en/wp-content/uploads/2017/12/2-1.jpg\n",
            "Completed Image ====> 31.2-1.jpg\n",
            "Image URL: https://i.ebayimg.com/images/g/B9AAAOSwC8FdSSJT/s-l300.jpg\n",
            "Completed Image ====> 32.s-l300.jpg\n",
            "Image URL: https://images-na.ssl-images-amazon.com/images/I/41gAA4-kQRL._AC_.jpg\n",
            "Completed Image ====> 33.41gAA4-kQRL._AC_.jpg\n",
            "Image URL: https://c8.alamy.com/comp/2AECPGT/top-view-of-pleurotus-ostreatus-oyster-mushrooms-2AECPGT.jpg\n",
            "Completed Image ====> 34.top-view-of-pleurotus-ostreatus-oyster-mushrooms-2AECPGT.jpg\n",
            "Image URL: http://blog.crazyaboutmushrooms.com/wp-content/uploads/2015/07/Pleurotus-dryinus.jpg\n",
            "Completed Image ====> 35.Pleurotus-dryinus.jpg\n",
            "Image URL: https://gluckspilze.com/media/image/product/943/lg/tree-oyster-sawdust-spawn-for-organic-growing.jpg\n",
            "Completed Image ====> 36.tree-oyster-sawdust-spawn-for-organic-growing.jpg\n",
            "Image URL: https://images.squarespace-cdn.com/content/v1/54061632e4b0cf67d96ff2fd/1566483246595-ZWQ2HJS0V6HNZ1LTQUG9/ke17ZwdGBToddI8pDm48kBUDAxm-FLUF-OJf9moK1kV7gQa3H78H3Y0txjaiv_0fDoOvxcdMmMKkDsyUqMSsMWxHk725yiiHCCLfrh8O1z5QPOohDIaIeljMHgDF5CVlOqpeNLcJ80NK65_fV7S1UT_TXfTUFcrrnRvtinoH4JYxq5g0UB9t65pVePltZrd1IKYY7Qu0iTZQJ-GJ4dsqLQ/SummerOysterDina.JPG\n",
            "Wrong image format returned. Skipping...\n",
            "Image URL: https://sc02.alicdn.com/kf/HTB1DzGCiBDH8KJjSszcq6zDTFXam.jpg_350x350.jpg\n",
            "Completed Image ====> 37.HTB1DzGCiBDH8KJjSszcq6zDTFXam.jpg\n",
            "Image URL: https://envato-shoebox-0.imgix.net/301c/ce56-70ce-4507-aa29-1274fbc39b44/Oyster+mushroom-1-Edit+copy.jpg?auto=compress%2Cformat&fit=max&mark=https%3A%2F%2Felements-assets.envato.com%2Fstatic%2Fwatermark2.png&markalign=center%2Cmiddle&markalpha=18&w=700&s=dc7551f06f9a48d3d5b5871bc23b2f3d\n",
            "Wrong image format returned. Skipping...\n",
            "Image URL: https://static.inaturalist.org/photos/5249634/large.jpg?1544138081\n",
            "Wrong image format returned. Skipping...\n",
            "Image URL: https://i.etsystatic.com/17605458/r/il/97d56c/1725375291/il_570xN.1725375291_dmmn.jpg\n",
            "Completed Image ====> 38.il_570xN.1725375291_dmmn.jpg\n",
            "Image URL: https://kingfishermushrooms.files.wordpress.com/2017/12/dsc_0158-2-e1514329212713.jpg\n",
            "Completed Image ====> 39.dsc_0158-2-e1514329212713.jpg\n",
            "Image URL: http://www.scmycoflora.org/genera/pleurotus/images/Pleurotus-ostreatus_1.jpg\n",
            "Completed Image ====> 40.Pleurotus-ostreatus_1.jpg\n",
            "Image URL: https://healing-mushrooms.net/wp-content/uploads/2019/08/Pleurotus-eryngii.jpg\n",
            "Completed Image ====> 41.Pleurotus-eryngii.jpg\n",
            "Image URL: https://i.pinimg.com/originals/9a/eb/b8/9aebb8ec55c59ca3e18b02fdcfb605c7.jpg\n",
            "Completed Image ====> 42.9aebb8ec55c59ca3e18b02fdcfb605c7.jpg\n",
            "Image URL: https://sc02.alicdn.com/kf/HTB1QWA7LpXXXXafXVXXq6xXFXXX1.jpg\n",
            "Completed Image ====> 43.HTB1QWA7LpXXXXafXVXXq6xXFXXX1.jpg\n",
            "Image URL: https://everythingmushrooms.com/wp-content/uploads/images/products/products-bluestraw2__52758.1320957680.1280.1280.jpg\n",
            "Completed Image ====> 44.products-bluestraw2__52758.1320957680.1280.1280.jpg\n",
            "Image URL: https://upload.wikimedia.org/wikipedia/commons/9/92/2011-06-30_Pleurotus_cornucopiae_3_70824.jpg\n",
            "Completed Image ====> 45.2011-06-30_Pleurotus_cornucopiae_3_70824.jpg\n",
            "Image URL: https://upload.wikimedia.org/wikipedia/commons/a/ac/Pleurotus_sp._%2844031822295%29.jpg\n",
            "Completed Image ====> 46.Pleurotus_sp._%2844031822295%29.jpg\n",
            "Image URL: https://top50.iucn-mpsg.org/uploads/species/39/images/m_135_2017-04-26-132017_pleurotus-nebrodensis.jpg\n",
            "Completed Image ====> 47.m_135_2017-04-26-132017_pleurotus-nebrodensis.jpg\n",
            "Image URL: https://www.fieldforest.net/images/popup/oyster-summer-white-substrates-1.jpg\n",
            "Completed Image ====> 48.oyster-summer-white-substrates-1.jpg\n",
            "Image URL: https://alohamedicinals.com/wp-content/uploads/2019/02/Pleurotus-Cystidiosus.jpg\n",
            "Completed Image ====> 49.Pleurotus-Cystidiosus.jpg\n",
            "Image URL: https://www.mycelia.be/upload/tinymce/Image/m_2501_pleurotus_cornucopiae_11x11.jpg\n",
            "Completed Image ====> 50.m_2501_pleurotus_cornucopiae_11x11.jpg\n",
            "\n",
            "Errors: 10\n",
            "\n",
            "\n",
            "\n",
            "Item no.: 1 --> Item name = Agaricus\n",
            "Evaluating...\n",
            "Starting Download...\n",
            "Image URL: https://upload.wikimedia.org/wikipedia/commons/d/d7/Agaricus-campestris-michoacan.jpg\n",
            "Completed Image ====> 1.Agaricus-campestris-michoacan.jpg\n",
            "Image URL: https://upload.wikimedia.org/wikipedia/commons/thumb/3/3a/Agaricus_campestris.jpg/1200px-Agaricus_campestris.jpg\n",
            "Completed Image ====> 2.1200px-Agaricus_campestris.jpg\n",
            "Image URL: https://cdn.shopify.com/s/files/1/0003/0041/7038/products/lcttaau_700x700.jpg?v=1571610227\n",
            "Wrong image format returned. Skipping...\n",
            "Image URL: https://upload.wikimedia.org/wikipedia/commons/1/1f/Agaricus_hondensis_71317.jpg\n",
            "Completed Image ====> 3.Agaricus_hondensis_71317.jpg\n",
            "Image URL: https://www.first-nature.com/fungi/images/agaricaceae/agaricus-campestris1.jpg\n",
            "Completed Image ====> 4.agaricus-campestris1.jpg\n",
            "Image URL: http://www.mykoweb.com/CAF/photos/large/Agaricus_micromegathus%28fs-02%29.jpg\n",
            "Completed Image ====> 5.Agaricus_micromegathus%28fs-02%29.jpg\n",
            "Image URL: https://www.zoology.ubc.ca/~biodiv/mushroom/img/A_deardorffensis/A_deardorffensis-annotated.jpg\n",
            "Completed Image ====> 6.A_deardorffensis-annotated.jpg\n",
            "Image URL: https://healing-mushrooms.net/wp-content/uploads/2020/02/Agaricus-campestris.jpg\n",
            "Completed Image ====> 7.Agaricus-campestris.jpg\n",
            "Image URL: https://www.first-nature.com/fungi/images/agaricaceae/agaricus-sylvicola1.jpg\n",
            "Completed Image ====> 8.agaricus-sylvicola1.jpg\n",
            "Image URL: https://gluckspilze.com/media/image/product/1067/lg/button-mushroom-brown-agaricus-bisporus-grain-spawn-for-organic-growing-acc-to-regulation-ec-834-2007-and-889-2008-at-bio-701-strain-nr-105003.jpg\n",
            "Completed Image ====> 9.button-mushroom-brown-agaricus-bisporus-grain-spawn-for-organic-growing-acc-to-regulation-ec-834-2007-and-889-2008-at-bio-701-strain-nr-105003.jpg\n",
            "Image URL: https://upload.wikimedia.org/wikipedia/commons/d/d6/Agaricus_augustus_2011_G1.jpg\n",
            "Completed Image ====> 10.Agaricus_augustus_2011_G1.jpg\n",
            "Image URL: http://www.mykoweb.com/CAF/photos/large/Agaricus_bisporus_fs-04.jpg\n",
            "Completed Image ====> 11.Agaricus_bisporus_fs-04.jpg\n",
            "Image URL: https://www.first-nature.com/fungi/images/agaricaceae/agaricus-campestris11.jpg\n",
            "Completed Image ====> 12.agaricus-campestris11.jpg\n",
            "Image URL: https://www.mykoweb.com/CAF/photos/large/Agaricus_fissuratus%28fs-08%29.jpg\n",
            "Completed Image ====> 13.Agaricus_fissuratus%28fs-08%29.jpg\n",
            "Image URL: http://www.mykoweb.com/CAF/photos/large/Agaricus_sylvicola%28fs-02%29.jpg\n",
            "Completed Image ====> 14.Agaricus_sylvicola%28fs-02%29.jpg\n",
            "Image URL: https://www.first-nature.com/fungi/images/agaricaceae/agaricus-augustus1.jpg\n",
            "Completed Image ====> 15.agaricus-augustus1.jpg\n",
            "Image URL: https://i.ytimg.com/vi/3cQgd5P4ozA/hqdefault.jpg\n",
            "Completed Image ====> 16.hqdefault.jpg\n",
            "Image URL: https://www.first-nature.com/fungi/images/agaricaceae/agaricus-comtulus2.jpg\n",
            "Completed Image ====> 17.agaricus-comtulus2.jpg\n",
            "Image URL: https://hikersnotebook.files.wordpress.com/2018/05/agaricuscampestris_carderock_080909.jpg?w=1100\n",
            "Wrong image format returned. Skipping...\n",
            "Image URL: https://upload.wikimedia.org/wikipedia/commons/4/40/Pieczarka_polowa_vongrzanka.JPG\n",
            "Wrong image format returned. Skipping...\n",
            "Image URL: https://gluckspilze.com/media/image/product/1057/lg/himematsutake-agaricus-blazei-murrill-grain-spawn-for-organic-growing-acc-to-regulation-ec-834-2007-and-889-2008-at-bio-701-strain-nr-105001.jpg\n",
            "Completed Image ====> 18.himematsutake-agaricus-blazei-murrill-grain-spawn-for-organic-growing-acc-to-regulation-ec-834-2007-and-889-2008-at-bio-701-strain-nr-105001.jpg\n",
            "Image URL: https://images-na.ssl-images-amazon.com/images/I/51VYh5Lj6kL._AC_SX450_.jpg\n",
            "Completed Image ====> 19.51VYh5Lj6kL._AC_SX450_.jpg\n",
            "Image URL: https://www.mykoweb.com/CAF/photos/large/Agaricus_semotus_fs-04.jpg\n",
            "Completed Image ====> 20.Agaricus_semotus_fs-04.jpg\n",
            "Image URL: https://www.first-nature.com/fungi/images/agaricaceae/agaricus-subperonatus1.jpg\n",
            "Completed Image ====> 21.agaricus-subperonatus1.jpg\n",
            "Image URL: https://www.mykoweb.com/CAF/photos/large/Agaricus_deardorffensis%28mgw-02%29.jpg\n",
            "Completed Image ====> 22.Agaricus_deardorffensis%28mgw-02%29.jpg\n",
            "Image URL: https://homeopathyplus.com/wp-content/uploads/2019/02/Agaricus-muscarius.jpg\n",
            "Completed Image ====> 23.Agaricus-muscarius.jpg\n",
            "Image URL: https://smallfarms.cornell.edu/wp-content/uploads/2019/07/Agaricus1.jpg\n",
            "Completed Image ====> 24.Agaricus1.jpg\n",
            "Image URL: https://www.mushroomexpert.com/images/kuo6/agaricus_bernardi_02_thumb.jpg\n",
            "Completed Image ====> 25.agaricus_bernardi_02_thumb.jpg\n",
            "Image URL: https://upload.wikimedia.org/wikipedia/commons/thumb/9/9f/Agaricus_californicus_2.jpg/1200px-Agaricus_californicus_2.jpg\n",
            "Completed Image ====> 26.1200px-Agaricus_californicus_2.jpg\n",
            "Image URL: https://www.mykoweb.com/CAF/photos/large/Agaricus_subrufescens%28fs-01%29.jpg\n",
            "Completed Image ====> 27.Agaricus_subrufescens%28fs-01%29.jpg\n",
            "Image URL: https://gluckspilze.com/media/image/product/1064/lg/button-mushroom-white-agaricus-bisporus-grain-spawn-for-organic-growing-acc-to-regulation-ec-834-2007-and-889-2008-at-bio-701-strain-nr-105002~2.jpg\n",
            "Completed Image ====> 28.button-mushroom-white-agaricus-bisporus-grain-spawn-for-organic-growing-acc-to-regulation-ec-834-2007-and-889-2008-at-bio-701-strain-nr-105002~2.jpg\n",
            "Image URL: https://www.first-nature.com/fungi/images/agaricaceae/agaricus-dulcidulus1.jpg\n",
            "Completed Image ====> 29.agaricus-dulcidulus1.jpg\n",
            "Image URL: https://i.ytimg.com/vi/vzQI83c4-JE/hqdefault.jpg\n",
            "Completed Image ====> 30.hqdefault.jpg\n",
            "Image URL: http://www.mykoweb.com/CAF/photos/large/Agaricus_hondensis%28mgw-06%29.jpg\n",
            "Completed Image ====> 31.Agaricus_hondensis%28mgw-06%29.jpg\n",
            "Image URL: https://www.mushroomexpert.com/images/kuo6/agaricus_bitorquis_01.jpg\n",
            "Completed Image ====> 32.agaricus_bitorquis_01.jpg\n",
            "Image URL: https://www.wildfooduk.com/wp-content/uploads/2018/01/Inky-1.jpg\n",
            "Completed Image ====> 33.Inky-1.jpg\n",
            "Image URL: https://upload.wikimedia.org/wikipedia/commons/thumb/c/c8/Agaricus_impudicus_01.jpg/1200px-Agaricus_impudicus_01.jpg\n",
            "Completed Image ====> 34.1200px-Agaricus_impudicus_01.jpg\n",
            "Image URL: https://upload.wikimedia.org/wikipedia/commons/thumb/9/9b/Agaricus_augustus_89390.jpg/1200px-Agaricus_augustus_89390.jpg\n",
            "Completed Image ====> 35.1200px-Agaricus_augustus_89390.jpg\n",
            "Image URL: https://www.mushroomexpert.com/images/contrib/braeuer_agaricus_augustus_01_thumb.jpg\n",
            "Completed Image ====> 36.braeuer_agaricus_augustus_01_thumb.jpg\n",
            "Image URL: https://www.wildfooduk.com/wp-content/uploads/2018/09/Princess-14-3.jpg\n",
            "Completed Image ====> 37.Princess-14-3.jpg\n",
            "Image URL: https://www.researchgate.net/profile/Md_Islam183/publication/275179411/figure/fig1/AS:614281590632468@1523467552342/General-morphology-of-Agaricus-spp-fruiting-body_Q640.jpg\n",
            "Completed Image ====> 38.General-morphology-of-Agaricus-spp-fruiting-body_Q640.jpg\n",
            "Image URL: https://lh6.googleusercontent.com/-7c4hnpNI2Uw/T9jGls7rOMI/AAAAAAAAB1s/wERXbssLjEw/s320/Agaricus%2Bbisporus%2B-01%2BC%2BJohnson.jpg\n",
            "Completed Image ====> 39.Agaricus%2Bbisporus%2B-01%2BC%2BJohnson.jpg\n",
            "Image URL: http://www.alpental.com/psms/PNWMushrooms/Images_G/Agaricus%20buckmacadooi%20%23%20Buck%20McAdoo%20%20holotype.jpg\n",
            "Completed Image ====> 40.Agaricus%20buckmacadooi%20%23%20Buck%20McAdoo%20%20holotype.jpg\n",
            "Image URL: https://www.mykoweb.com/CAF/photos/large/Agaricus_bernardii%28fs-09%29.jpg\n",
            "Completed Image ====> 41.Agaricus_bernardii%28fs-09%29.jpg\n",
            "Image URL: https://healing-mushrooms.net/wp-content/uploads/2020/03/Agaricus-augustus-scaled.jpg\n",
            "Completed Image ====> 42.Agaricus-augustus-scaled.jpg\n",
            "Image URL: https://www.monaconatureencyclopedia.com/wp-content/uploads/2008/08/v-Agaricus-praeclaresquamosus.jpg\n",
            "Completed Image ====> 43.v-Agaricus-praeclaresquamosus.jpg\n",
            "Image URL: https://www.childrens.health.qld.gov.au/wp-content/uploads/images/poisonous-plants-gallery/yellow-staining-mushroom1.jpg\n",
            "Completed Image ====> 44.yellow-staining-mushroom1.jpg\n",
            "Image URL: http://blog.crazyaboutmushrooms.com/wp-content/uploads/2015/09/Agaricus-arvensus.jpg\n",
            "Completed Image ====> 45.Agaricus-arvensus.jpg\n",
            "Image URL: https://ars.els-cdn.com/content/image/3-s2.0-B9780128115176000052-f05-01-9780128115176.jpg\n",
            "Completed Image ====> 46.3-s2.0-B9780128115176000052-f05-01-9780128115176.jpg\n",
            "Image URL: https://www.first-nature.com/fungi/images/agaricaceae/agaricus-porphyrocephalus1.jpg\n",
            "Completed Image ====> 47.agaricus-porphyrocephalus1.jpg\n",
            "Image URL: https://image.shutterstock.com/image-illustration/agaricus-bitorquis-edible-white-mushroom-260nw-1441644155.jpg\n",
            "Completed Image ====> 48.agaricus-bitorquis-edible-white-mushroom-260nw-1441644155.jpg\n",
            "Image URL: https://upload.wikimedia.org/wikipedia/commons/thumb/9/96/Iconographie_des_champignons_de_Paulet_%28Pl._LXXXIX%29_%286266440221%29.jpg/170px-Iconographie_des_champignons_de_Paulet_%28Pl._LXXXIX%29_%286266440221%29.jpg\n",
            "Completed Image ====> 49.170px-Iconographie_des_champignons_de_Paulet_%28Pl._LXXXIX%29_%286266440221%29.jpg\n",
            "Image URL: https://kingfishermushrooms.files.wordpress.com/2018/06/dsc_0029-2.jpg\n",
            "Completed Image ====> 50.dsc_0029-2.jpg\n",
            "\n",
            "Errors: 3\n",
            "\n",
            "\n",
            "\n",
            "Item no.: 1 --> Item name = Macrolepiota\n",
            "Evaluating...\n",
            "Starting Download...\n",
            "Image URL: https://upload.wikimedia.org/wikipedia/commons/a/a2/Macrolepiota-Colima-Mexico.jpg\n",
            "Completed Image ====> 1.Macrolepiota-Colima-Mexico.jpg\n",
            "Image URL: https://www.first-nature.com/fungi/images/agaricaceae/macrolepiota-excoriata1.jpg\n",
            "Completed Image ====> 2.macrolepiota-excoriata1.jpg\n",
            "Image URL: https://www.first-nature.com/fungi/images/agaricaceae/macrolepiota-mastoidea1.jpg\n",
            "Completed Image ====> 3.macrolepiota-mastoidea1.jpg\n",
            "Image URL: https://www.first-nature.com/fungi/images/agaricaceae/macrolepiota-mastoidea5.jpg\n",
            "Completed Image ====> 4.macrolepiota-mastoidea5.jpg\n",
            "Image URL: https://upload.wikimedia.org/wikipedia/commons/c/c1/ParasolMushroom.JPG\n",
            "Wrong image format returned. Skipping...\n",
            "Image URL: https://www.researchgate.net/profile/Leela_Rizal/publication/319177650/figure/fig1/AS:528882210426880@1503106753830/a-Macrolepiota-dolichaula-MFLUCC-13-0579-b-Macrolepiota-dolichaula-MFLUCC-14-0742-c.png\n",
            "Wrong image format returned. Skipping...\n",
            "Image URL: https://www.first-nature.com/fungi/images/agaricaceae/macrolepiota-procera1.jpg\n",
            "Completed Image ====> 5.macrolepiota-procera1.jpg\n",
            "Image URL: https://upload.wikimedia.org/wikipedia/commons/6/64/Zitzen-Riesenschirmling_Macrolepiota_mastoidea.JPG\n",
            "Wrong image format returned. Skipping...\n",
            "Image URL: http://antropocene.it/wp-content/uploads/2019/03/Macrolepiota_excoriata-800x445.jpg\n",
            "Completed Image ====> 6.Macrolepiota_excoriata-800x445.jpg\n",
            "Image URL: https://www.mushroomexpert.com/images/kuo3/macrolepiota_procera_02.jpg\n",
            "Completed Image ====> 7.macrolepiota_procera_02.jpg\n",
            "Image URL: https://upload.wikimedia.org/wikipedia/commons/6/6a/Macrolepiota_procera_2013_G1.jpg\n",
            "Completed Image ====> 8.Macrolepiota_procera_2013_G1.jpg\n",
            "Image URL: https://www.mushroomexpert.com/images/kuo3/macrolepiota_procera_01.jpg\n",
            "Completed Image ====> 9.macrolepiota_procera_01.jpg\n",
            "Image URL: https://www.first-nature.com/fungi/images/agaricaceae/macrolepiota-procera6.jpg\n",
            "Completed Image ====> 10.macrolepiota-procera6.jpg\n",
            "Image URL: https://kingfishermushrooms.files.wordpress.com/2018/04/dsc_0011-3.jpg\n",
            "Completed Image ====> 11.dsc_0011-3.jpg\n",
            "Image URL: https://upload.wikimedia.org/wikipedia/commons/a/a4/Macrolepiota-procera.jpg\n",
            "Completed Image ====> 12.Macrolepiota-procera.jpg\n",
            "Image URL: http://mushroom-collecting.com/08_22_41.jpg\n",
            "Completed Image ====> 13.08_22_41.jpg\n",
            "Image URL: https://www.monaconatureencyclopedia.com/wp-content/uploads/2008/08/jpg_Detta_Mazza_si_tamburo_per_l_aspetto_del_fungo_chiuso_e_un_ottimo_commestibile_c_Giuseppe_Mazza.jpg\n",
            "Completed Image ====> 14.jpg_Detta_Mazza_si_tamburo_per_l_aspetto_del_fungo_chiuso_e_un_ottimo_commestibile_c_Giuseppe_Mazza.jpg\n",
            "Image URL: https://comps.canstockphoto.com/macrolepiota-procera-mushroom-stock-photograph_csp59711499.jpg\n",
            "Completed Image ====> 15.macrolepiota-procera-mushroom-stock-photograph_csp59711499.jpg\n",
            "Image URL: https://kingfishermushrooms.files.wordpress.com/2018/06/dsc_0040.jpg?w=676\n",
            "Wrong image format returned. Skipping...\n",
            "Image URL: https://www.researchgate.net/profile/Cvetomir_Denchev/publication/281625318/figure/fig4/AS:669432674263056@1536616595927/Macrolepiota-procera-var-procera-E-Polemis.jpg\n",
            "Completed Image ====> 16.Macrolepiota-procera-var-procera-E-Polemis.jpg\n",
            "Image URL: http://qldfungi.org.au/wp-content/uploads/2012/08/macrolepiota_dolichaula_01_PL_1024.jpg\n",
            "Completed Image ====> 17.macrolepiota_dolichaula_01_PL_1024.jpg\n",
            "Image URL: https://www.monaconatureencyclopedia.com/wp-content/uploads/2008/08/jpg_La_Macrolepiota_mastoidea_sembra_un_seno_con_mammella_ed_e_commestibile_c_Giuseppe_Mazza.jpg\n",
            "Completed Image ====> 18.jpg_La_Macrolepiota_mastoidea_sembra_un_seno_con_mammella_ed_e_commestibile_c_Giuseppe_Mazza.jpg\n",
            "Image URL: https://www.geoffdann.co.uk/wp-content/uploads/2017/09/fulig.jpg\n",
            "Completed Image ====> 19.fulig.jpg\n",
            "Image URL: https://www.jcu.edu.au/__data/assets/image/0009/96615/366167.3.jpg\n",
            "Completed Image ====> 20.366167.3.jpg\n",
            "Image URL: https://image.shutterstock.com/z/stock-photo-macrolepiota-venenata-scandinavian-native-mushroom-similar-to-parasol-mushroom-macrolepiota-158956325.jpg\n",
            "Completed Image ====> 21.stock-photo-macrolepiota-venenata-scandinavian-native-mushroom-similar-to-parasol-mushroom-macrolepiota-158956325.jpg\n",
            "Image URL: http://mushroom-collecting.com/08_27_0.jpg\n",
            "Completed Image ====> 22.08_27_0.jpg\n",
            "Image URL: https://www.geoffdann.co.uk/wp-content/uploads/2017/09/fulig_squarr.jpg\n",
            "Completed Image ====> 23.fulig_squarr.jpg\n",
            "Image URL: https://www.mondofunghi.com/wp-content/uploads/2018/03/Macrolepiota-procera-fungo-mazza-di-tamburo.jpg\n",
            "Completed Image ====> 24.Macrolepiota-procera-fungo-mazza-di-tamburo.jpg\n",
            "Image URL: https://upload.wikimedia.org/wikipedia/commons/6/6f/Macrolepiota_procera_Parasol_Riesenschirmpilz_Mont_de_S%C3%ABuc.jpg\n",
            "Completed Image ====> 25.Macrolepiota_procera_Parasol_Riesenschirmpilz_Mont_de_S%C3%ABuc.jpg\n",
            "Image URL: https://media.istockphoto.com/photos/closeup-of-parasol-mushroom-macrolepiota-procera-picture-id1053964600\n",
            "Wrong image format returned. Skipping...\n",
            "Image URL: https://previews.123rf.com/images/kostik2photo/kostik2photo1906/kostik2photo190600039/125498593-parasol-mushroom-known-as-macrolepiota-procera-or-lepiota-procera-is-a-basidiomycete-fungus-with-a-l.jpg\n",
            "Completed Image ====> 26.125498593-parasol-mushroom-known-as-macrolepiota-procera-or-lepiota-procera-is-a-basidiomycete-fungus-with-a-l.jpg\n",
            "Image URL: https://st4.depositphotos.com/1005839/21639/i/1600/depositphotos_216392308-stock-photo-mushroom-macrolepiota-procera-lepiota-procera.jpg\n",
            "Completed Image ====> 27.depositphotos_216392308-stock-photo-mushroom-macrolepiota-procera-lepiota-procera.jpg\n",
            "Image URL: https://previews.123rf.com/images/vlastoopatovsky/vlastoopatovsky2003/vlastoopatovsky200300157/142136520-the-parasol-mushroom-macrolepiota-procera-or-lepiota-procera-is-a-basidiomycete-fungus-with-a-large-.jpg\n",
            "Completed Image ====> 28.142136520-the-parasol-mushroom-macrolepiota-procera-or-lepiota-procera-is-a-basidiomycete-fungus-with-a-large-.jpg\n",
            "Image URL: https://www.mediastorehouse.com/pimage/629/12553805/12553805_450_450_81393_0_fill_0_888012b01c951355c2f043540a7dd170.jpg\n",
            "Completed Image ====> 29.12553805_450_450_81393_0_fill_0_888012b01c951355c2f043540a7dd170.jpg\n",
            "Image URL: https://c8.alamy.com/comp/2BAFAM3/macrolepiota-procera-known-as-the-parasol-mushroom-edible-fungus-from-finland-2BAFAM3.jpg\n",
            "Completed Image ====> 30.macrolepiota-procera-known-as-the-parasol-mushroom-edible-fungus-from-finland-2BAFAM3.jpg\n",
            "Image URL: https://www.first-nature.com/fungi/images/agaricaceae/macrolepiota-phaeodisca8.jpg\n",
            "Completed Image ====> 31.macrolepiota-phaeodisca8.jpg\n",
            "Image URL: https://images-na.ssl-images-amazon.com/images/I/51ht3weUb7L._AC_.jpg\n",
            "Completed Image ====> 32.51ht3weUb7L._AC_.jpg\n",
            "Image URL: https://live.staticflickr.com/1968/45412013952_75e366e8df_b.jpg\n",
            "Completed Image ====> 33.45412013952_75e366e8df_b.jpg\n",
            "Image URL: https://images.fineartamerica.com/images/artworkimages/mediumlarge/1/parasol-mushroom---macrolepiota-procera---august--indiana-rory-cubel.jpg\n",
            "Completed Image ====> 34.parasol-mushroom---macrolepiota-procera---august--indiana-rory-cubel.jpg\n",
            "Image URL: https://res.cloudinary.com/fleetnation/image/private/c_fit,w_1120/g_south,l_text:style_gothic2:%C2%A9%20Anton,o_20,y_10/g_center,l_watermark4,o_25,y_50/v1531125467/auqfcqmjxnqlplisgryu.jpg\n",
            "Completed Image ====> 35.auqfcqmjxnqlplisgryu.jpg\n",
            "Image URL: https://upload.wikimedia.org/wikipedia/commons/c/cf/Parasol-Macrolepiota-procera.jpg\n",
            "Completed Image ====> 36.Parasol-Macrolepiota-procera.jpg\n",
            "Image URL: https://thumbs.dreamstime.com/z/parasol-mushroom-macrolepiota-procera-lepiota-procera-parasol-mushroom-macrolepiota-procera-lepiota-procera-100935167.jpg\n",
            "Completed Image ====> 37.parasol-mushroom-macrolepiota-procera-lepiota-procera-parasol-mushroom-macrolepiota-procera-lepiota-procera-100935167.jpg\n",
            "Image URL: https://comps.canstockphoto.com/parasol-mushroom-macrolepiota-procera-stock-photograph_csp61782396.jpg\n",
            "Completed Image ====> 38.parasol-mushroom-macrolepiota-procera-stock-photograph_csp61782396.jpg\n",
            "Image URL: https://c8.alamy.com/comp/2AKHWRH/macrolepiota-procera-known-as-the-parasol-mushroom-edible-fungus-from-finland-2AKHWRH.jpg\n",
            "Completed Image ====> 39.macrolepiota-procera-known-as-the-parasol-mushroom-edible-fungus-from-finland-2AKHWRH.jpg\n",
            "Image URL: https://image.shutterstock.com/image-photo/parasol-mushroom-macrolepiota-procera-260nw-93389056.jpg\n",
            "Completed Image ====> 40.parasol-mushroom-macrolepiota-procera-260nw-93389056.jpg\n",
            "Image URL: https://upload.wikimedia.org/wikipedia/commons/thumb/5/5e/Macrolepiota_clelandii_14635.jpg/220px-Macrolepiota_clelandii_14635.jpg\n",
            "Completed Image ====> 41.220px-Macrolepiota_clelandii_14635.jpg\n",
            "Image URL: https://previews.123rf.com/images/ungpaoman/ungpaoman1905/ungpaoman190500227/123394127-parasol-mushroom-macrolepiota-procera-growing-in-a-field.jpg\n",
            "Completed Image ====> 42.123394127-parasol-mushroom-macrolepiota-procera-growing-in-a-field.jpg\n",
            "Image URL: https://www.first-nature.com/fungi/images/agaricaceae/macrolepiota-phaeodisca7.jpg\n",
            "Completed Image ====> 43.macrolepiota-phaeodisca7.jpg\n",
            "Image URL: http://www.mushroom.world/data/fungi/Macrolepiotaprocera2.JPG\n",
            "Wrong image format returned. Skipping...\n",
            "Image URL: http://cdn.ipernity.com/200/70/16/49027016.a23a7e2c.640.jpg?r2\n",
            "Wrong image format returned. Skipping...\n",
            "Image URL: https://antropocene.it/wp-content/uploads/2018/04/Macrolepiota_procera-800x445.jpg\n",
            "Completed Image ====> 44.Macrolepiota_procera-800x445.jpg\n",
            "Image URL: https://www.mondofunghi.com/wp-content/uploads/2018/03/Macrolepiota-procera.jpg\n",
            "Completed Image ====> 45.Macrolepiota-procera.jpg\n",
            "Image URL: https://static1.bigstockphoto.com/1/0/3/large1500/301461613.jpg\n",
            "Completed Image ====> 46.301461613.jpg\n",
            "Image URL: https://c8.alamy.com/comp/RG4DFN/parasol-mushroom-known-as-macrolepiota-procera-or-lepiota-procera-is-a-basidiomycete-fungus-with-a-large-prominent-fruiting-body-resembling-a-parasol-RG4DFN.jpg\n",
            "Completed Image ====> 47.parasol-mushroom-known-as-macrolepiota-procera-or-lepiota-procera-is-a-basidiomycete-fungus-with-a-large-prominent-fruiting-body-resembling-a-parasol-RG4DFN.jpg\n",
            "Image URL: https://www.crushpixel.com/static12/preview2/macrolepiota-procera-1016433.jpg\n",
            "Completed Image ====> 48.macrolepiota-procera-1016433.jpg\n",
            "Image URL: https://s3.amazonaws.com/media.jungledragon.com/images/3125/74351_medium.jpeg?AWSAccessKeyId=05GMT0V3GWVNE7GGM1R2&Expires=1591228810&Signature=Avvch9cgD7N2R9Y7rZF%2FFJuV5gs%3D\n",
            "URLError on an image...trying next one... Error: HTTP Error 403: Forbidden\n",
            "Image URL: https://upload.wikimedia.org/wikipedia/commons/thumb/3/30/MacrolepiotaProcera.JPG/1200px-MacrolepiotaProcera.JPG\n",
            "Wrong image format returned. Skipping...\n",
            "Image URL: https://media.istockphoto.com/photos/parasol-mushroom-macrolepiota-procera-or-lepiota-procera-picture-id1089376978\n",
            "Wrong image format returned. Skipping...\n",
            "Image URL: https://fscomps.fotosearch.com/compc/IMB/IMB001/parasol-mushroom-macrolepiota-stock-image__ibxelf02407903.jpg\n",
            "Completed Image ====> 49.parasol-mushroom-macrolepiota-stock-image__ibxelf02407903.jpg\n",
            "Image URL: https://www.featurepics.com/StockImage/20101111/macrolepiota-procera-stock-picture-1701258.jpg\n",
            "Completed Image ====> 50.macrolepiota-procera-stock-picture-1701258.jpg\n",
            "\n",
            "Errors: 10\n",
            "\n",
            "\n",
            "\n",
            "Item no.: 1 --> Item name = Cantharellus\n",
            "Evaluating...\n",
            "Starting Download...\n",
            "Image URL: https://upload.wikimedia.org/wikipedia/commons/thumb/a/aa/2007-07-14_Cantharellus_cibarius.jpg/1200px-2007-07-14_Cantharellus_cibarius.jpg\n",
            "Completed Image ====> 1.1200px-2007-07-14_Cantharellus_cibarius.jpg\n",
            "Image URL: https://upload.wikimedia.org/wikipedia/commons/e/e2/Cantharellus_phasmatis_344135.jpg\n",
            "Completed Image ====> 2.Cantharellus_phasmatis_344135.jpg\n",
            "Image URL: https://www.first-nature.com/fungi/images/cantharellales/cantharellus-cibarius1.jpg\n",
            "IOError on an image...trying next one... Error: The read operation timed out\n",
            "Image URL: http://scmycoflora.org/genera/cantharellus/images/Cantharellus-californicus_1.jpg\n",
            "Completed Image ====> 3.Cantharellus-californicus_1.jpg\n",
            "Image URL: https://www.first-nature.com/fungi/images/cantharellales/cantharellus-tubaeformis1.jpg\n",
            "Completed Image ====> 4.cantharellus-tubaeformis1.jpg\n",
            "Image URL: https://images-na.ssl-images-amazon.com/images/I/81MGFbXKZLL._SL1500_.jpg\n",
            "Completed Image ====> 5.81MGFbXKZLL._SL1500_.jpg\n",
            "Image URL: https://www.zoology.ubc.ca/~biodiv/mushroom/img/C_cascadensis/C_cascadensis-annotated.jpg\n",
            "Completed Image ====> 6.C_cascadensis-annotated.jpg\n",
            "Image URL: https://images-na.ssl-images-amazon.com/images/I/51XP2SPUluL._AC_SX450_.jpg\n",
            "Completed Image ====> 7.51XP2SPUluL._AC_SX450_.jpg\n",
            "Image URL: https://upload.wikimedia.org/wikipedia/commons/thumb/9/9a/Chanterelle_Cantharellus_cibarius.jpg/1200px-Chanterelle_Cantharellus_cibarius.jpg\n",
            "Completed Image ====> 8.1200px-Chanterelle_Cantharellus_cibarius.jpg\n",
            "Image URL: http://www.mushroomexpert.com/images/kuo3/cantharellus_appalachiensis_01.jpg\n",
            "Completed Image ====> 9.cantharellus_appalachiensis_01.jpg\n",
            "Image URL: https://i.ebayimg.com/images/g/ZwcAAOSwB1dde1lv/s-l1600.jpg\n",
            "Completed Image ====> 10.s-l1600.jpg\n",
            "Image URL: https://www.mushroomexpert.com/images/kuo4/cantharellus_minor_03.jpg\n",
            "Completed Image ====> 11.cantharellus_minor_03.jpg\n",
            "Image URL: https://www.first-nature.com/fungi/images/cantharellales/cantharellus-aurora2.jpg\n",
            "IOError on an image...trying next one... Error: The read operation timed out\n",
            "Image URL: http://bayareamushrooms.org/images/pictures/cantharellus_californicus_smith.jpg\n",
            "Completed Image ====> 12.cantharellus_californicus_smith.jpg\n",
            "Image URL: https://image.shutterstock.com/image-photo/cantharellus-cibarius-edible-mushroom-fungus-260nw-1114925054.jpg\n",
            "Completed Image ====> 13.cantharellus-cibarius-edible-mushroom-fungus-260nw-1114925054.jpg\n",
            "Image URL: http://lh3.ggpht.com/_hG1joSEzdPY/S-ApOctNeUI/AAAAAAAAAiQ/FdwJk1A8Ix0/s400/Gills%20decurrent%20Cantharellus%20cibarius%20Quoich%201.jpg\n",
            "Completed Image ====> 14.Gills%20decurrent%20Cantharellus%20cibarius%20Quoich%201.jpg\n",
            "Image URL: http://ecobulgarplod.com/wp-content/uploads/2017/03/%D1%81%D0%B8%D0%B2%D0%BE-%D0%B6%D1%8A%D0%BB%D1%82-%D0%BF%D0%B0%D1%87%D0%B8-%D0%BA%D1%80%D0%B0%D0%BA-1024x769.jpg\n",
            "Completed Image ====> 15.%D1%81%D0%B8%D0%B2%D0%BE-%D0%B6%D1%8A%D0%BB%D1%82-%D0%BF%D0%B0%D1%87%D0%B8-%D0%BA%D1%80%D0%B0%D0%BA-1024x769.jpg\n",
            "Image URL: https://upload.wikimedia.org/wikipedia/commons/3/30/Cantharellus_lateritius_54894.jpg\n",
            "Completed Image ====> 16.Cantharellus_lateritius_54894.jpg\n",
            "Image URL: https://images-na.ssl-images-amazon.com/images/I/71T%2BC4toDvL._AC_SX466_.jpg\n",
            "Completed Image ====> 17.71T%2BC4toDvL._AC_SX466_.jpg\n",
            "Image URL: https://i.pinimg.com/originals/80/70/28/8070289bcfdd87afe2dbf94f770054aa.jpg\n",
            "Completed Image ====> 18.8070289bcfdd87afe2dbf94f770054aa.jpg\n",
            "Image URL: https://www.mushroomexpert.com/images/kuo4/cantharellus_lateritius_04.jpg\n",
            "Completed Image ====> 19.cantharellus_lateritius_04.jpg\n",
            "Image URL: https://www.first-nature.com/fungi/images/cantharellales/cantharellus-amethysteus2.jpg\n",
            "Completed Image ====> 20.cantharellus-amethysteus2.jpg\n",
            "Image URL: https://i.ytimg.com/vi/uDx1XuEZXRo/maxresdefault.jpg\n",
            "Completed Image ====> 21.maxresdefault.jpg\n",
            "Image URL: https://i1.wp.com/morelmushroomhunting.com/wp-content/uploads/2019/03/Chanterelles-growth.jpg?ssl=1\n",
            "Wrong image format returned. Skipping...\n",
            "Image URL: https://files.stocky.ai/uploads/2019/02/image-Cantharellus-cibarius-in-the-natural-environment-stocky-ai-26165590.jpg\n",
            "Completed Image ====> 22.image-Cantharellus-cibarius-in-the-natural-environment-stocky-ai-26165590.jpg\n",
            "Image URL: https://live.staticflickr.com/7807/46516310791_5b6602460d_b.jpg\n",
            "Completed Image ====> 23.46516310791_5b6602460d_b.jpg\n",
            "Image URL: https://www.mykoweb.com/CAF/photos/large/Cantharellus_subalbidus%28mgw-01%29.jpg\n",
            "Completed Image ====> 24.Cantharellus_subalbidus%28mgw-01%29.jpg\n",
            "Image URL: https://healing-mushrooms.net/wp-content/uploads/2020/03/Cantharellus-subalbidus.jpg\n",
            "Completed Image ====> 25.Cantharellus-subalbidus.jpg\n",
            "Image URL: http://news.uwlax.edu/wp-content/uploads/2013/04/Phasmatis.jpg\n",
            "Completed Image ====> 26.Phasmatis.jpg\n",
            "Image URL: http://lh6.ggpht.com/_hG1joSEzdPY/S-ApNcDASqI/AAAAAAAAAiI/fQStuxN0-2M/s400/Cantharellus%20cibarius%20Quoich%203.JPG\n",
            "Wrong image format returned. Skipping...\n",
            "Image URL: https://media.istockphoto.com/photos/chanterelle-mushrooms-background-cantharellus-cibarius-picture-id951061392\n",
            "Wrong image format returned. Skipping...\n",
            "Image URL: https://www.researchgate.net/profile/Mustafa_Sevindik2/publication/336686670/figure/fig1/AS:816383671676929@1571652443555/Cantharellus-cibarius-Antioxidant-Activity-TAS-TOS-and-OSI-values-of-C-cibarius-samples_Q640.jpg\n",
            "Completed Image ====> 27.Cantharellus-cibarius-Antioxidant-Activity-TAS-TOS-and-OSI-values-of-C-cibarius-samples_Q640.jpg\n",
            "Image URL: https://www.healthbenefitstimes.com/9/uploads/2016/06/Chanterelle-mushroom-Cantharellus-californicus.jpg\n",
            "Completed Image ====> 28.Chanterelle-mushroom-Cantharellus-californicus.jpg\n",
            "Image URL: https://www.mykoweb.com/CAF/photos/large/Craterellus_tubaeformis%28mgw-01%29.jpg\n",
            "Completed Image ====> 29.Craterellus_tubaeformis%28mgw-01%29.jpg\n",
            "Image URL: http://www.fichasmicologicas.com/uploads/tx_txgastromicologia/Cantharellus_ferruginascens.jpg\n",
            "Completed Image ====> 30.Cantharellus_ferruginascens.jpg\n",
            "Image URL: https://i.etsystatic.com/18376711/r/il/256be9/1697926749/il_570xN.1697926749_hik8.jpg\n",
            "Completed Image ====> 31.il_570xN.1697926749_hik8.jpg\n",
            "Image URL: https://www.ediblewildfood.com/images/chanterelles-pictures/Cantharellus-cibarius.jpg\n",
            "Completed Image ====> 32.Cantharellus-cibarius.jpg\n",
            "Image URL: https://www.zoology.ubc.ca/~biodiv/mushroom/img/C_formosus/C_formosus-annotated.jpg\n",
            "Completed Image ====> 33.C_formosus-annotated.jpg\n",
            "Image URL: https://previews.123rf.com/images/fotoco/fotoco1803/fotoco180300004/97372330-two-young-specimen-of-cantharellus-cibarius-bicolor-or-chanterelle-mushrooms-one-growing-on-the-fore.jpg\n",
            "Completed Image ====> 34.97372330-two-young-specimen-of-cantharellus-cibarius-bicolor-or-chanterelle-mushrooms-one-growing-on-the-fore.jpg\n",
            "Image URL: https://image.shutterstock.com/image-photo/three-chanterelle-mushrooms-forest-cantharellus-260nw-749642227.jpg\n",
            "Completed Image ====> 35.three-chanterelle-mushrooms-forest-cantharellus-260nw-749642227.jpg\n",
            "Image URL: https://live.staticflickr.com/1767/28465415467_25310b1de8_b.jpg\n",
            "Completed Image ====> 36.28465415467_25310b1de8_b.jpg\n",
            "Image URL: http://tropicalfungi.org/wp-content/uploads/Cantharellus-guyanensis-Todd-Elliott.jpg\n",
            "Completed Image ====> 37.Cantharellus-guyanensis-Todd-Elliott.jpg\n",
            "Image URL: https://c8.alamy.com/comp/DETMTX/cantharellus-lutescens-DETMTX.jpg\n",
            "Completed Image ====> 38.cantharellus-lutescens-DETMTX.jpg\n",
            "Image URL: https://inpn.mnhn.fr/photos/uploads/webtofs/inpn/8/126338.jpg\n",
            "Completed Image ====> 39.126338.jpg\n",
            "Image URL: https://www.researchgate.net/profile/Donatha_Tibuhwa/publication/233424549/figure/fig4/AS:203033272164366@1425418312738/Basidiomes-of-Afrocantharellus-and-Cantharellus-species-showing-morphological-differences.png\n",
            "Wrong image format returned. Skipping...\n",
            "Image URL: https://wpamushroomclub.org/wp-content/uploads/2019/11/Cantharellus-cibarius.-2.-By-Richard-Jacob.jpg\n",
            "IOError on an image...trying next one... Error: [SSL: DECRYPTION_FAILED_OR_BAD_RECORD_MAC] decryption failed or bad record mac (_ssl.c:2309)\n",
            "Image URL: https://www.messiah.edu/Oakes/fungi_on_wood/gilled%20fungi/images/Hygrocybe%20cantharellus7007_edited%20DSmith.jpg\n",
            "Completed Image ====> 40.Hygrocybe%20cantharellus7007_edited%20DSmith.jpg\n",
            "Image URL: http://www.fichasmicologicas.com/typo3temp/pics/5e5d8ac65b.jpg\n",
            "Completed Image ====> 41.5e5d8ac65b.jpg\n",
            "Image URL: https://c8.alamy.com/comp/X9805K/cantharellus-lutescens-X9805K.jpg\n",
            "Completed Image ====> 42.cantharellus-lutescens-X9805K.jpg\n",
            "Image URL: https://images.squarespace-cdn.com/content/v1/500f885de4b006cb9ec204e9/1521062424094-XQVW56ATGZCWVAMEWT99/ke17ZwdGBToddI8pDm48kKT96-mTqGc-stp-zZRIm9p7gQa3H78H3Y0txjaiv_0fDoOvxcdMmMKkDsyUqMSsMWxHk725yiiHCCLfrh8O1z5QPOohDIaIeljMHgDF5CVlOqpeNLcJ80NK65_fV7S1UTNp7wJXdR1xX66M6thRzqrQ6_o4HcW8ZfkNO26r5aioETgZ1M0luSsj-o69URGWyw/IMG_6211.jpg?format=750w\n",
            "Wrong image format returned. Skipping...\n",
            "Image URL: https://biology.burke.washington.edu/herbarium/imagecollection/wtu101000/md/wtu101031.jpg\n",
            "Completed Image ====> 43.wtu101031.jpg\n",
            "Image URL: https://www.mushroomexpert.com/images/contrib/richardson_cantharellus_cibarius_roseocanus_01.jpg\n",
            "Completed Image ====> 44.richardson_cantharellus_cibarius_roseocanus_01.jpg\n",
            "Image URL: https://i.pinimg.com/originals/fc/44/54/fc4454b3079c3c3f7c4d6ec9fc09e656.jpg\n",
            "Completed Image ====> 45.fc4454b3079c3c3f7c4d6ec9fc09e656.jpg\n",
            "Image URL: https://previews.123rf.com/images/123bogdan/123bogdan1708/123bogdan170800428/84817631-chanterelle-cantharellus-cibarius-mushroom.jpg\n",
            "Completed Image ====> 46.84817631-chanterelle-cantharellus-cibarius-mushroom.jpg\n",
            "Image URL: https://thumbs.dreamstime.com/z/group-chanterelle-mushroom-wood-cantharellus-cibarius-97591636.jpg\n",
            "Completed Image ====> 47.group-chanterelle-mushroom-wood-cantharellus-cibarius-97591636.jpg\n",
            "Image URL: https://www.messiah.edu/Oakes/fungi_on_wood/gilled%20fungi/images/Hygrocybe%20cantharellus25GB.jpg\n",
            "Completed Image ====> 48.Hygrocybe%20cantharellus25GB.jpg\n",
            "Image URL: https://i1.wp.com/morelmushroomhunting.com/wp-content/uploads/2019/07/Cantharellus_formosus_Corner_568303.jpg?ssl=1\n",
            "Wrong image format returned. Skipping...\n",
            "Image URL: http://iucn.ekoo.se/assets/uploads/f233d-Cantharellus-cibarius_9805.jpg\n",
            "Completed Image ====> 49.f233d-Cantharellus-cibarius_9805.jpg\n",
            "Image URL: https://comps.canstockphoto.com/cantharellus-cibarius-in-the-natural-stock-photograph_csp60005591.jpg\n",
            "Completed Image ====> 50.cantharellus-cibarius-in-the-natural-stock-photograph_csp60005591.jpg\n",
            "\n",
            "Errors: 9\n",
            "\n",
            "\n",
            "\n",
            "Item no.: 1 --> Item name = Amanita\n",
            "Evaluating...\n",
            "Starting Download...\n",
            "Image URL: https://upload.wikimedia.org/wikipedia/commons/thumb/0/02/2006-10-25_Amanita_muscaria_crop.jpg/1200px-2006-10-25_Amanita_muscaria_crop.jpg\n",
            "Completed Image ====> 1.1200px-2006-10-25_Amanita_muscaria_crop.jpg\n",
            "Image URL: https://cdn.britannica.com/82/174582-050-CD09D87F/Fly-agaric-amanita-mushroom.jpg\n",
            "Completed Image ====> 2.Fly-agaric-amanita-mushroom.jpg\n",
            "Image URL: https://www.juneauempire.com/wp-content/uploads/2019/10/19056753_web1_copy_Amanita-mushrooms-by-Bob-Armstrong-copy.jpg\n",
            "Completed Image ====> 3.19056753_web1_copy_Amanita-mushrooms-by-Bob-Armstrong-copy.jpg\n",
            "Image URL: https://upload.wikimedia.org/wikipedia/commons/4/45/Amanita_frostiana_%28Peck%29_Sacc_750397.jpg\n",
            "Completed Image ====> 4.Amanita_frostiana_%28Peck%29_Sacc_750397.jpg\n",
            "Image URL: https://live.staticflickr.com/65535/47663091811_f50f26590b_b.jpg\n",
            "Completed Image ====> 5.47663091811_f50f26590b_b.jpg\n",
            "Image URL: https://www.first-nature.com/fungi/images/amanitaceae/amanita-gemmata7.jpg\n",
            "Completed Image ====> 6.amanita-gemmata7.jpg\n",
            "Image URL: https://www.zoology.ubc.ca/~biodiv/mushroom/img/A_pantherinoides/A_pantherinoides-annotated.jpg\n",
            "Completed Image ====> 7.A_pantherinoides-annotated.jpg\n",
            "Image URL: https://www.first-nature.com/fungi/images/amanitaceae/amanita-muscaria1.jpg\n",
            "Completed Image ====> 8.amanita-muscaria1.jpg\n",
            "Image URL: https://amanita.lt/wp-content/uploads/2019/10/amanita_lt_buy_amanita_muscaria_online2-1024x490.jpg\n",
            "Completed Image ====> 9.amanita_lt_buy_amanita_muscaria_online2-1024x490.jpg\n",
            "Image URL: https://www.researchgate.net/profile/Anne_Pringle2/publication/229427712/figure/fig1/AS:213914542448640@1428012609612/Clockwise-from-top-left-Amanita-muscaria-subsp-flavivolvata-Amanita-frostiana.png\n",
            "Wrong image format returned. Skipping...\n",
            "Image URL: https://soundwaterstewards.org/web/wp-content/uploads/2019/10/fly-amanitasDSC_9645.jpg\n",
            "Completed Image ====> 10.fly-amanitasDSC_9645.jpg\n",
            "Image URL: http://3.bp.blogspot.com/_95dDE8pja5s/THUtdmM1UHI/AAAAAAAAA7A/wJ6XSG7aOMQ/s1600/amanita+muscaria.jpg\n",
            "Completed Image ====> 11.amanita+muscaria.jpg\n",
            "Image URL: https://live.staticflickr.com/5536/11248406913_45fd93e8fd_b.jpg\n",
            "Completed Image ====> 12.11248406913_45fd93e8fd_b.jpg\n",
            "Image URL: http://www.mykoweb.com/CAF/photos/large/Amanita_muscaria%28mgw-05%29.jpg\n",
            "Completed Image ====> 13.Amanita_muscaria%28mgw-05%29.jpg\n",
            "Image URL: http://themushroomforager.com/wp-content/uploads/2010/09/IMG_2719.jpg\n",
            "Completed Image ====> 14.IMG_2719.jpg\n",
            "Image URL: https://i1.wp.com/www.fungusfactfriday.com/wp-content/uploads/2017/01/Amanita-muscaria.jpg?ssl=1\n",
            "Wrong image format returned. Skipping...\n",
            "Image URL: http://lh6.ggpht.com/_hG1joSEzdPY/S-AlvlN7fmI/AAAAAAAAAhg/p6A1VIiSWUQ/s400/Amanita%20muscaria%20Abernethy%201.jpg\n",
            "Completed Image ====> 15.Amanita%20muscaria%20Abernethy%201.jpg\n",
            "Image URL: https://upload.wikimedia.org/wikipedia/commons/3/3f/Amanita_muscaria_aureola.jpg\n",
            "Completed Image ====> 16.Amanita_muscaria_aureola.jpg\n",
            "Image URL: https://s3.amazonaws.com/eit-planttoolbox-prod/media/images/Amanita_muscaria_cap_H7z9yOfWVkWb.jpg\n",
            "Completed Image ====> 17.Amanita_muscaria_cap_H7z9yOfWVkWb.jpg\n",
            "Image URL: http://farm3.staticflickr.com/2081/2127394714_9fd7ab2a1d_z.jpg\n",
            "Completed Image ====> 18.2127394714_9fd7ab2a1d_z.jpg\n",
            "Image URL: https://www.mykoweb.com/CAF/photos/large/Amanita_muscaria%28mgw-04%29.jpg\n",
            "Completed Image ====> 19.Amanita_muscaria%28mgw-04%29.jpg\n",
            "Image URL: http://www.press.uillinois.edu/wordpress/wp-content/uploads/2014/04/Amanita-jacksonii-1.jpg\n",
            "Completed Image ====> 20.Amanita-jacksonii-1.jpg\n",
            "Image URL: https://upload.wikimedia.org/wikipedia/commons/d/df/Amanita_muscaria_var._guessowii_%282%29.jpg\n",
            "Completed Image ====> 21.Amanita_muscaria_var._guessowii_%282%29.jpg\n",
            "Image URL: https://www.zoology.ubc.ca/~biodiv/mushroom/img/A_muscaria/A_muscaria-annotated.jpg\n",
            "Completed Image ====> 22.A_muscaria-annotated.jpg\n",
            "Image URL: https://www.first-nature.com/fungi/images/amanitaceae/amanita-muscaria10.jpg\n",
            "Completed Image ====> 23.amanita-muscaria10.jpg\n",
            "Image URL: https://compote.slate.com/images/84ef0b2a-f494-46d2-adb0-367d19488e9f.jpg\n",
            "Completed Image ====> 24.84ef0b2a-f494-46d2-adb0-367d19488e9f.jpg\n",
            "Image URL: https://www.bayareamushrooms.org/images/pictures/Amanita_muscaria_spsp_sm.jpg\n",
            "Completed Image ====> 25.Amanita_muscaria_spsp_sm.jpg\n",
            "Image URL: https://i0.wp.com/dreammerchant.shop/wp-content/uploads/amanita-muscaria-1.jpg?fit=1568%2C1176&ssl=1\n",
            "Wrong image format returned. Skipping...\n",
            "Image URL: https://cdn.britannica.com/s:800x450,c:crop/61/172461-138-097C4999/video-mushroom-fly-agaric-Neil-Bromhall-properties.jpg\n",
            "Completed Image ====> 26.video-mushroom-fly-agaric-Neil-Bromhall-properties.jpg\n",
            "Image URL: https://nature.mdc.mo.gov/sites/default/files/styles/centered_full/public/media/images/2015/03/thiers_amanita_3-20-15.jpg?itok=81dBCHT2\n",
            "Wrong image format returned. Skipping...\n",
            "Image URL: https://i.pinimg.com/originals/d0/a4/22/d0a422c5a615ff026aff79b1c43d55da.jpg\n",
            "Completed Image ====> 27.d0a422c5a615ff026aff79b1c43d55da.jpg\n",
            "Image URL: https://www.iceers.org/wp-content/uploads/2019/02/iceers_amanita_muscaria_basic_info.jpg\n",
            "Completed Image ====> 28.iceers_amanita_muscaria_basic_info.jpg\n",
            "Image URL: https://healing-mushrooms.net/wp-content/uploads/2020/03/Amanita-caesarea.jpg\n",
            "Completed Image ====> 29.Amanita-caesarea.jpg\n",
            "Image URL: https://static1.squarespace.com/static/5baa2814fb18203bf20c6aa0/5bb6039515fcc03af24c187e/5e98c201f9a15f6251618b32/1588244760956/Fliegenpilz_fly_agaric_Amanita_muscaria.JPG?format=2500w\n",
            "Wrong image format returned. Skipping...\n",
            "Image URL: https://www.mushroomexpert.com/images/nadon/nadon_amanita_jacksonii_01_thumb.jpg\n",
            "Completed Image ====> 30.nadon_amanita_jacksonii_01_thumb.jpg\n",
            "Image URL: https://www.fs.fed.us/wildflowers/ethnobotany/Mind_and_Spirit/images/fungi/fly-agaric/Amanita_muscaria_BugwoodForestryImages_lg.jpg\n",
            "Completed Image ====> 31.Amanita_muscaria_BugwoodForestryImages_lg.jpg\n",
            "Image URL: https://1fyxb22x4ve03aciag3x6bdv-wpengine.netdna-ssl.com/wp-content/uploads/2016/11/web1_161130-SVR-med-Mushrooms.jpg\n",
            "Completed Image ====> 32.web1_161130-SVR-med-Mushrooms.jpg\n",
            "Image URL: https://image.shutterstock.com/image-photo/amanita-muscaria-commonly-known-fly-260nw-1657413718.jpg\n",
            "Completed Image ====> 33.amanita-muscaria-commonly-known-fly-260nw-1657413718.jpg\n",
            "Image URL: https://lookaside.fbsbx.com/lookaside/crawler/media/?media_id=10158276036415127\n",
            "Wrong image format returned. Skipping...\n",
            "Image URL: https://honest-food.net/wp-content/uploads/2011/12/Amanita-muscaria-button.jpg\n",
            "Completed Image ====> 34.Amanita-muscaria-button.jpg\n",
            "Image URL: https://i0.wp.com/awaytogarden.com/wp-content/uploads/2012/10/emerging-amanita-muscaria.jpg?resize=480%2C227&ssl=1\n",
            "Wrong image format returned. Skipping...\n",
            "Image URL: https://www.monaconatureencyclopedia.com/wp-content/uploads/2008/08/jpg_Velenoso-mortale_a_lunga_latenza_da_6_a_24_ore_ed_oltre_dopo_il_pasto_c_Giuseppe_Mazza.jpg\n",
            "Completed Image ====> 35.jpg_Velenoso-mortale_a_lunga_latenza_da_6_a_24_ore_ed_oltre_dopo_il_pasto_c_Giuseppe_Mazza.jpg\n",
            "Image URL: https://d1ymz67w5raq8g.cloudfront.net/Pictures/480xAny/1/5/4/112154_feature-drink-of-gods-300_tcm18-174434.jpg\n",
            "Completed Image ====> 36.112154_feature-drink-of-gods-300_tcm18-174434.jpg\n",
            "Image URL: https://i.ytimg.com/vi/lFe9pLPQF30/maxresdefault.jpg\n",
            "Completed Image ====> 37.maxresdefault.jpg\n",
            "Image URL: http://storage.googleapis.com/powop-assets/kew_profiles/KPPCONT_027641_fullsize.jpg\n",
            "Completed Image ====> 38.KPPCONT_027641_fullsize.jpg\n",
            "Image URL: https://i1.wp.com/theplanthunter.com.au/wp-content/uploads/2016/08/AmanitaMuscari_trip_featured.jpg?quality=99&strip=all&ssl=1\n",
            "Wrong image format returned. Skipping...\n",
            "Image URL: http://bayareamushrooms.org/images/pictures/rita_basket_of_velosas.jpg\n",
            "Completed Image ====> 39.rita_basket_of_velosas.jpg\n",
            "Image URL: https://upload.wikimedia.org/wikipedia/commons/3/32/Amanita_muscaria_3_vliegenzwammen_op_rij.jpg\n",
            "Completed Image ====> 40.Amanita_muscaria_3_vliegenzwammen_op_rij.jpg\n",
            "Image URL: https://files.merryjane.com/uploads/generic/1574196535839_a1amanitasqu.jpg\n",
            "Completed Image ====> 41.1574196535839_a1amanitasqu.jpg\n",
            "Image URL: https://images-na.ssl-images-amazon.com/images/I/51PLX4AlC3L._SR600%2C315_PIWhiteStrip%2CBottomLeft%2C0%2C35_SCLZZZZZZZ_.jpg\n",
            "Completed Image ====> 42.51PLX4AlC3L._SR600%2C315_PIWhiteStrip%2CBottomLeft%2C0%2C35_SCLZZZZZZZ_.jpg\n",
            "Image URL: http://www.wildflowers-and-weeds.com/mushrooms/images/Amanita_muscaria.1.jpg\n",
            "Completed Image ====> 43.Amanita_muscaria.1.jpg\n",
            "Image URL: https://www.featurepics.com/StockImage/20180124/amanita-muscaria-stock-photo-4583517.jpg\n",
            "Completed Image ====> 44.amanita-muscaria-stock-photo-4583517.jpg\n",
            "Image URL: https://s3.amazonaws.com/eit-planttoolbox-prod/media/images/Amanita_gemmata_form_mtt4myCmWnkr.jpg\n",
            "Completed Image ====> 45.Amanita_gemmata_form_mtt4myCmWnkr.jpg\n",
            "Image URL: http://themushroomforager.com/wp-content/uploads/2010/09/IMG_2840.jpg\n",
            "Completed Image ====> 46.IMG_2840.jpg\n",
            "Image URL: https://www.adirondackalmanack.com/wp-content/uploads/2017/09/Amanita-by-Adelaide-Tyrol-e1506612627279.jpg\n",
            "Completed Image ====> 47.Amanita-by-Adelaide-Tyrol-e1506612627279.jpg\n",
            "Image URL: https://www.outtherecolorado.com/wp-content/uploads/2019/08/iStock-1087595808-1024x683.jpg\n",
            "URLError on an image...trying next one... Error: HTTP Error 404: Not Found\n",
            "Image URL: https://i.vimeocdn.com/video/42141739_1280.jpg\n",
            "Completed Image ====> 48.42141739_1280.jpg\n",
            "Image URL: https://c8.alamy.com/comp/M71JTR/fly-amanita-amanita-muscaria-yellow-variant-M71JTR.jpg\n",
            "Completed Image ====> 49.fly-amanita-amanita-muscaria-yellow-variant-M71JTR.jpg\n",
            "Image URL: https://www.uncovercolorado.com/wp-content/uploads/2020/04/Amanita-Muscaria-CO-1600x800-1.jpg\n",
            "Completed Image ====> 50.Amanita-Muscaria-CO-1600x800-1.jpg\n",
            "\n",
            "Errors: 9\n",
            "\n",
            "\n",
            "\n",
            "Item no.: 1 --> Item name = Laetiporus\n",
            "Evaluating...\n",
            "Starting Download...\n",
            "Image URL: https://upload.wikimedia.org/wikipedia/commons/thumb/8/8b/Laetiporus_sulphureus_JPG01.jpg/1200px-Laetiporus_sulphureus_JPG01.jpg\n",
            "Completed Image ====> 1.1200px-Laetiporus_sulphureus_JPG01.jpg\n",
            "Image URL: https://upload.wikimedia.org/wikipedia/commons/thumb/a/ac/Laetiporus_conifericola_306.jpg/1200px-Laetiporus_conifericola_306.jpg\n",
            "Completed Image ====> 2.1200px-Laetiporus_conifericola_306.jpg\n",
            "Image URL: https://www.mushroomexpert.com/images/kuo6/laetiporus_01_thumb.jpg\n",
            "Completed Image ====> 3.laetiporus_01_thumb.jpg\n",
            "Image URL: http://www.mykoweb.com/CAF/photos/large/Laetiporus_gilbertsonii%28fs-05%29.jpg\n",
            "Completed Image ====> 4.Laetiporus_gilbertsonii%28fs-05%29.jpg\n",
            "Image URL: https://upload.wikimedia.org/wikipedia/commons/thumb/5/5b/Laetiporus_cincinnatus_14060.jpg/220px-Laetiporus_cincinnatus_14060.jpg\n",
            "Completed Image ====> 5.220px-Laetiporus_cincinnatus_14060.jpg\n",
            "Image URL: http://www.bio.brandeis.edu/fieldbio/Fungi_Miller_Stevens_Rumann/Edited%20Images/laetiporus_sulphureus_edited2_resized_large.jpg\n",
            "Completed Image ====> 6.laetiporus_sulphureus_edited2_resized_large.jpg\n",
            "Image URL: https://images.tyrantfarms.com/Img/chicken-of-the-woods/large-chicken-of-the-woods-featured.jpg\n",
            "Completed Image ====> 7.large-chicken-of-the-woods-featured.jpg\n",
            "Image URL: https://upload.wikimedia.org/wikipedia/commons/e/ec/Laetiporus_sulphureus_big.jpg\n",
            "Completed Image ====> 8.Laetiporus_sulphureus_big.jpg\n",
            "Image URL: https://www.mushroomexpert.com/images/kuo6/laetiporus_sulphureus_03.jpg\n",
            "Completed Image ====> 9.laetiporus_sulphureus_03.jpg\n",
            "Image URL: https://i.etsystatic.com/18376711/r/il/743620/1646371305/il_570xN.1646371305_b0x7.jpg\n",
            "Completed Image ====> 10.il_570xN.1646371305_b0x7.jpg\n",
            "Image URL: https://comps.canstockphoto.com/close-look-on-bracket-fungus-laetiporus-stock-images_csp52627155.jpg\n",
            "Completed Image ====> 11.close-look-on-bracket-fungus-laetiporus-stock-images_csp52627155.jpg\n",
            "Image URL: https://lh3.googleusercontent.com/-O4Bi33uSwYU/VWccElw91EI/AAAAAAAADy8/p4cX6AIG8rQ/s320/Laetiporus%2Bsulphureus_Nev3.JPG\n",
            "Wrong image format returned. Skipping...\n",
            "Image URL: https://blog.mycology.cornell.edu/files/2006/10/chicken4801.jpg\n",
            "Completed Image ====> 12.chicken4801.jpg\n",
            "Image URL: https://www.monaconatureencyclopedia.com/wp-content/uploads/2008/08/jpg_Il_Laetiporus_sulphureus_commestibile_da_giovane_e_un_parassita_che_ama_le_latifolie_c_Giuseppe_Mazza.jpg\n",
            "Completed Image ====> 13.jpg_Il_Laetiporus_sulphureus_commestibile_da_giovane_e_un_parassita_che_ama_le_latifolie_c_Giuseppe_Mazza.jpg\n",
            "Image URL: https://www.messiah.edu/Oakes/fungi_on_wood/poroid%20fungi/images/L%20sulphureus%20Dorothy%20Smullen.jpg\n",
            "Completed Image ====> 14.L%20sulphureus%20Dorothy%20Smullen.jpg\n",
            "Image URL: https://www.mushroomexpert.com/images/kuo6/laetiporus_sulphureus_06.jpg\n",
            "Completed Image ====> 15.laetiporus_sulphureus_06.jpg\n",
            "Image URL: http://www.mykoweb.com/CAF/photos/large/Laetiporus_gilbertsonii_mgw-08.jpg\n",
            "Completed Image ====> 16.Laetiporus_gilbertsonii_mgw-08.jpg\n",
            "Image URL: https://previews.123rf.com/images/nickkurzenko/nickkurzenko1809/nickkurzenko180900028/112484861-chicken-on-the-woods-fungus-laetiporus-sulphureus-called-chicken-mushroom-crab-of-the-woods-sulphur-.jpg\n",
            "Completed Image ====> 17.112484861-chicken-on-the-woods-fungus-laetiporus-sulphureus-called-chicken-mushroom-crab-of-the-woods-sulphur-.jpg\n",
            "Image URL: https://sc01.alicdn.com/kf/HTB1Tt0Ufm7PL1JjSZFHq6AciXXar.jpg\n",
            "Completed Image ====> 18.HTB1Tt0Ufm7PL1JjSZFHq6AciXXar.jpg\n",
            "Image URL: https://botanyphoto.botanicalgarden.ubc.ca/wp-content/uploads/2007/10/laetiporus-gilbertsonii-800x600.jpg\n",
            "Completed Image ====> 19.laetiporus-gilbertsonii-800x600.jpg\n",
            "Image URL: https://www.first-nature.com/fungi/images/polyporaceae/laetiporus-sulphureus4.jpg\n",
            "Completed Image ====> 20.laetiporus-sulphureus4.jpg\n",
            "Image URL: https://render.fineartamerica.com/images/rendered/default/greeting-card/images-medium/laetiporus-sulphureus-bob-gibbons.jpg?&targetx=0&targety=-27&imagewidth=500&imageheight=755&modelwidth=500&modelheight=700&backgroundcolor=303613&orientation=1\n",
            "Wrong image format returned. Skipping...\n",
            "Image URL: https://upload.wikimedia.org/wikipedia/commons/thumb/1/14/Laetiporus_gilbertsonii_19346.jpg/1200px-Laetiporus_gilbertsonii_19346.jpg\n",
            "Completed Image ====> 21.1200px-Laetiporus_gilbertsonii_19346.jpg\n",
            "Image URL: http://americanmushrooms.com/images/Laetiporus_sulphureus_by_Liz_Cornish.jpg\n",
            "Completed Image ====> 22.Laetiporus_sulphureus_by_Liz_Cornish.jpg\n",
            "Image URL: https://i.pinimg.com/736x/45/da/34/45da34674609e1059631a62bc034bcf9.jpg\n",
            "Completed Image ====> 23.45da34674609e1059631a62bc034bcf9.jpg\n",
            "Image URL: https://www.first-nature.com/fungi/images/polyporaceae/laetiporus-sulphureus5.jpg\n",
            "Completed Image ====> 24.laetiporus-sulphureus5.jpg\n",
            "Image URL: https://www.messiah.edu/Oakes/fungi_on_wood/poroid%20fungi/images/L-cincinnatus-mossy-stump-GE.jpg\n",
            "Completed Image ====> 25.L-cincinnatus-mossy-stump-GE.jpg\n",
            "Image URL: https://images.fineartamerica.com/images-medium-large-5/chicken-of-the-woods-fungi-laetiporus-sulphureus-mother-nature.jpg\n",
            "Completed Image ====> 26.chicken-of-the-woods-fungi-laetiporus-sulphureus-mother-nature.jpg\n",
            "Image URL: https://images-na.ssl-images-amazon.com/images/I/71jQTBm3PzL._AC_SX450_.jpg\n",
            "Completed Image ====> 27.71jQTBm3PzL._AC_SX450_.jpg\n",
            "Image URL: https://i.ebayimg.com/images/g/bykAAOSwuAVWzw-E/s-l300.jpg\n",
            "Completed Image ====> 28.s-l300.jpg\n",
            "Image URL: https://upload.wikimedia.org/wikipedia/commons/1/10/Laetiporus_sulphureus_%2832715501158%29.jpg\n",
            "Completed Image ====> 29.Laetiporus_sulphureus_%2832715501158%29.jpg\n",
            "Image URL: http://blog.crazyaboutmushrooms.com/wp-content/uploads/2015/05/Laetiporus-cincinnatus.jpg\n",
            "Completed Image ====> 30.Laetiporus-cincinnatus.jpg\n",
            "Image URL: https://live.mrf.io/statics/i/ps/cdn.zmescience.com/wp-content/uploads/2018/08/Fungus-Wood-Tree-Laetiporus-Sulphureus-Polypore-455479.jpg?width=1200&enable=upscale\n",
            "Wrong image format returned. Skipping...\n",
            "Image URL: http://americanmushrooms.com/images/Laetiporus_sulphureus_01a.jpg\n",
            "Completed Image ====> 31.Laetiporus_sulphureus_01a.jpg\n",
            "Image URL: https://upload.wikimedia.org/wikipedia/commons/8/80/Chicken_of_the_Woods_Laetiporus_sulphureus.jpg\n",
            "Completed Image ====> 32.Chicken_of_the_Woods_Laetiporus_sulphureus.jpg\n",
            "Image URL: https://i.ytimg.com/vi/1pci-i9p9mU/maxresdefault.jpg\n",
            "Completed Image ====> 33.maxresdefault.jpg\n",
            "Image URL: http://mushroom-collecting.com/8-25-06_38.jpg\n",
            "Completed Image ====> 34.8-25-06_38.jpg\n",
            "Image URL: https://www.mushroomexpert.com/images/kuo6/laetiporus_sulphureus_04.jpg\n",
            "Completed Image ====> 35.laetiporus_sulphureus_04.jpg\n",
            "Image URL: https://www.bayareamushrooms.org/images/pictures/Laetiporus_conifericola_Sm.jpg\n",
            "Completed Image ====> 36.Laetiporus_conifericola_Sm.jpg\n",
            "Image URL: http://www.mykoweb.com/CAF/photos/large/Laetiporus_gilbertsonii%28mgw-05%29.jpg\n",
            "Completed Image ====> 37.Laetiporus_gilbertsonii%28mgw-05%29.jpg\n",
            "Image URL: https://upload.wikimedia.org/wikipedia/commons/0/09/Laetiporus_sulphureus_2010_G1.jpg\n",
            "Completed Image ====> 38.Laetiporus_sulphureus_2010_G1.jpg\n",
            "Image URL: https://previews.123rf.com/images/pilens/pilens1605/pilens160500045/58377998-sulfur-shelf-mushroom-or-chicken-of-the-woods-laetiporus-sulphureus-big-cluster-growing-on-dying-oak.jpg\n",
            "Completed Image ====> 39.58377998-sulfur-shelf-mushroom-or-chicken-of-the-woods-laetiporus-sulphureus-big-cluster-growing-on-dying-oak.jpg\n",
            "Image URL: https://upload.wikimedia.org/wikipedia/commons/c/cd/Hortus_Haren_18-05-2019._%28actm.%29_03.jpg\n",
            "Completed Image ====> 40.Hortus_Haren_18-05-2019._%28actm.%29_03.jpg\n",
            "Image URL: https://i.pinimg.com/originals/5a/d4/30/5ad430447248207018365c1142c7f925.jpg\n",
            "Completed Image ====> 41.5ad430447248207018365c1142c7f925.jpg\n",
            "Image URL: https://www.first-nature.com/fungi/images/polyporaceae/laetiporus-sulphureus1.jpg\n",
            "Completed Image ====> 42.laetiporus-sulphureus1.jpg\n",
            "Image URL: https://www.mushroomexpert.com/images/kuo6/laetiporus_sulphureus_02.jpg\n",
            "Completed Image ====> 43.laetiporus_sulphureus_02.jpg\n",
            "Image URL: https://upload.wikimedia.org/wikipedia/commons/a/a1/Laetiporus_montanus_237227.jpg\n",
            "Completed Image ====> 44.Laetiporus_montanus_237227.jpg\n",
            "Image URL: https://botanyphoto.botanicalgarden.ubc.ca/wp-content/uploads/2006/01/laetiporus-sulphureus-800x600.jpg\n",
            "Completed Image ====> 45.laetiporus-sulphureus-800x600.jpg\n",
            "Image URL: https://i.ytimg.com/vi/ZWUE9q0InZc/hqdefault.jpg\n",
            "Completed Image ====> 46.hqdefault.jpg\n",
            "Image URL: https://steemitimages.com/DQmcjMroKZ6jRJ9ZfrWebJeyMsuzKFPaxb1s7zYQYbes57W/20171013_150836.jpg\n",
            "Completed Image ====> 47.20171013_150836.jpg\n",
            "Image URL: https://www.messiah.edu/Oakes/fungi_on_wood/poroid%20fungi/images/L%20cincinnatus%20top%20DW.jpg\n",
            "Completed Image ====> 48.L%20cincinnatus%20top%20DW.jpg\n",
            "Image URL: https://www.researchgate.net/profile/Upendra_Singh30/publication/320126362/figure/fig3/AS:544202128674816@1506759306996/24-18-Laetiporus-sulphureus-19-Cut-portions-of-Laetiporus-for-cooking-20-Ramaria.png\n",
            "Wrong image format returned. Skipping...\n",
            "Image URL: https://www.wildfooduk.com/wp-content/uploads/2018/01/Chicken-7.jpg\n",
            "Completed Image ====> 49.Chicken-7.jpg\n",
            "Image URL: https://mh-1-stockagency.panthermedia.net/media/previews/0013000000/13503000/13503570_high.jpg\n",
            "Completed Image ====> 50.13503570_high.jpg\n",
            "\n",
            "Errors: 4\n",
            "\n",
            "\n"
          ],
          "name": "stdout"
        }
      ]
    },
    {
      "cell_type": "markdown",
      "metadata": {
        "id": "OyNez3Asg65S",
        "colab_type": "text"
      },
      "source": [
        "## google image download snippets"
      ]
    },
    {
      "cell_type": "code",
      "metadata": {
        "id": "70z9kOKTWd6j",
        "colab_type": "code",
        "colab": {}
      },
      "source": [
        "# # importing google_images_download module \n",
        "# from google_images_download import google_images_download  \n",
        "  \n",
        "# # creating object \n",
        "# response = google_images_download.googleimagesdownload()  \n",
        "  \n",
        "# search_queries = [\"Boletus\", \"Pleurotus\", \"Agaricus\", \"Macrolepiota\", \"Cantharellus\", \"Amanita\", \"Laetiporus \"]\n",
        "  \n",
        "  \n",
        "# def downloadimages(query): \n",
        "#     # keywords is the search query \n",
        "#     # format is the image file format \n",
        "#     # limit is the number of images to be downloaded \n",
        "#     # print urs is to print the image file url \n",
        "#     # size is the image size which can \n",
        "#     # be specified manually (\"large, medium, icon\") \n",
        "#     # aspect ratio denotes the height width ratio \n",
        "#     # of images to download. (\"tall, square, wide, panoramic\") \n",
        "#     arguments = {\"keywords\": query, \n",
        "#                  \"format\": \"jpg\", \n",
        "#                  \"limit\":4, \n",
        "#                  \"print_urls\":True, \n",
        "#                  \"size\": \"medium\", \n",
        "#                  \"aspect_ratio\":\"panoramic\"} \n",
        "#     try: \n",
        "#         response.download(arguments) \n",
        "      \n",
        "#     # Handling File NotFound Error     \n",
        "#     except FileNotFoundError:  \n",
        "#         arguments = {\"keywords\": query, \n",
        "#                      \"format\": \"jpg\", \n",
        "#                      \"limit\":4, \n",
        "#                      \"print_urls\":True,  \n",
        "#                      \"size\": \"medium\"} \n",
        "                       \n",
        "#         # Providing arguments for the searched query \n",
        "#         try: \n",
        "#             # Downloading the photos based \n",
        "#             # on the given arguments \n",
        "#             response.download(arguments)  \n",
        "#         except: \n",
        "#             pass\n",
        "  \n",
        "# # Driver Code \n",
        "# for query in search_queries: \n",
        "#     downloadimages(query)  \n",
        "#     print()  "
      ],
      "execution_count": null,
      "outputs": []
    },
    {
      "cell_type": "code",
      "metadata": {
        "id": "JpkTPlEWZmjD",
        "colab_type": "code",
        "colab": {
          "base_uri": "https://localhost:8080/"
        },
        "outputId": "e0a86edb-6ad2-4d64-b82a-40aca68a4ea4"
      },
      "source": [
        "#!git clone https://github.com/ultralytics/google-images-download\n",
        "!cd /content/google-images-download\n",
        "!python3 /content/google-images-download/bing_scraper.py --search 'honeybees on flowers' --limit 10 --download --chromedriver /content/chromedriver"
      ],
      "execution_count": null,
      "outputs": [
        {
          "output_type": "stream",
          "text": [
            "/bin/bash: line 0: cd: /content/google-images-download: No such file or directory\n",
            "python3: can't open file '/content/google-images-download/bing_scraper.py': [Errno 2] No such file or directory\n"
          ],
          "name": "stdout"
        }
      ]
    },
    {
      "cell_type": "code",
      "metadata": {
        "id": "NwjErhEFdKQj",
        "colab_type": "code",
        "colab": {}
      },
      "source": [
        "# from datetime import date\n",
        "\n",
        "# from google_images_download import google_images_download \n",
        "\n",
        "# response = google_images_download.googleimagesdownload()\n",
        "\n",
        "# planet_arguments = [\"mercury planet\", \"venus planet\", \"earth planet\", \"mars planet\", \"saturn planet\", \"jupiter planet\", \"neptune planet\", \"uranus planet\"]\n",
        "# date_ranges = {\n",
        "# \t\"09/01/2019\": \"09/30/2019\",\n",
        "# \t\"08/01/2019\": \"08/30/2019\",\n",
        "# \t\"07/01/2019\": \"07/30/2019\"\n",
        "# \t}\n",
        "\n",
        "# for planet in planet_arguments:\n",
        "# \tfor key, value in date_ranges.items():\n",
        "# \t\ttime_range = {}\n",
        "# \t\ttime_range[\"time_min\"] = key\n",
        "# \t\ttime_range[\"time_max\"] = value\n",
        "\n",
        "# \t\targuments = {\n",
        "# \t\t\t\"keywords\": planet,\n",
        "# \t\t\t\"limit\": 500,\n",
        "# \t\t\t\"print_urls\": True, \n",
        "# \t\t\t\"size\": \"medium\",\n",
        "# \t\t\t\"time_range\": f\"{time_range}\",\n",
        "# \t\t\t\"output_directory\": \"./data/\",\n",
        "# \t\t\t\"image_directory\": f\"train/{planet}\",\n",
        "# \t\t\t\"chromedriver\": \"./content/chromedriver\" #this should be the default location of where chromedriver is installed on a linux VM box.\n",
        "# \t\t\t}\n",
        "\n",
        "\n",
        "# \t\tpaths = response.download(arguments)\n",
        "# \t\tprint(paths)"
      ],
      "execution_count": null,
      "outputs": []
    },
    {
      "cell_type": "code",
      "metadata": {
        "id": "0FetpdKngJ-i",
        "colab_type": "code",
        "colab": {}
      },
      "source": [
        "#!pip install icrawler"
      ],
      "execution_count": null,
      "outputs": []
    },
    {
      "cell_type": "code",
      "metadata": {
        "id": "XoYfgWxmgKoR",
        "colab_type": "code",
        "colab": {}
      },
      "source": [
        "# from icrawler.builtin import (BingImageCrawler, GoogleImageCrawler)\n",
        "# import logging"
      ],
      "execution_count": null,
      "outputs": []
    },
    {
      "cell_type": "code",
      "metadata": {
        "id": "cltEAJVegMpB",
        "colab_type": "code",
        "colab": {}
      },
      "source": [
        "# keyword = 'Boletus'"
      ],
      "execution_count": null,
      "outputs": []
    },
    {
      "cell_type": "code",
      "metadata": {
        "id": "O25q2p0UgRth",
        "colab_type": "code",
        "colab": {}
      },
      "source": [
        "# !mkdir Boletus"
      ],
      "execution_count": null,
      "outputs": []
    },
    {
      "cell_type": "code",
      "metadata": {
        "id": "Gq_dGZnWgWex",
        "colab_type": "code",
        "colab": {}
      },
      "source": [
        "# pets = ['cat','leopard','tiger','lion']\n",
        "# path = os.getcwd()\n",
        "\n",
        "# for pet in pets:\n",
        "#     directory = os.path.join(path, r'{}'.format(pet))\n",
        "#     if not os.path.exists(directory):\n",
        "#         os.makedirs(directory)\n",
        "#     google_crawler = GoogleImageCrawler(feeder_threads=1,parser_threads=1, downloader_threads=4,storage={'root_dir': directory})\n",
        "#     filters = dict(size='medium', license='commercial,modify', date=((2019,1,1),(2019,7,27)))\n",
        "#     google_crawler.crawl(keyword=pet, filters=filters,offset=0,max_num=100,min_size=(100,100),max_size=None, file_idx_offset=0)"
      ],
      "execution_count": null,
      "outputs": []
    },
    {
      "cell_type": "code",
      "metadata": {
        "id": "pqShT4B3llDS",
        "colab_type": "code",
        "colab": {}
      },
      "source": [
        "# import argparse\n",
        "# import os\n",
        "\n",
        "# import numpy as np\n",
        "# from icrawler.builtin import GoogleImageCrawler\n",
        "\n",
        "\n",
        "# def get_files(directory, extensions=None, shuffle=False):\n",
        "#     \"\"\"\n",
        "#     Lists files in a directory\n",
        "#     :return:\n",
        "#     \"\"\"\n",
        "\n",
        "#     if extensions is None:\n",
        "#         extensions = ['jpg', 'bmp', 'png', 'JPG', 'JPEG']\n",
        "#     images = []\n",
        "#     for subdir, dirs, files in os.walk(directory):\n",
        "#         for file in files:\n",
        "#             filepath = os.path.join(subdir, file)\n",
        "\n",
        "#             if extensions is not None:\n",
        "#                 if any(filepath.endswith(ext) for ext in extensions):\n",
        "#                     images.append(filepath)\n",
        "#             else:\n",
        "#                 images.append(filepath)\n",
        "#     if shuffle:\n",
        "#         np.random.shuffle(images)\n",
        "#     return images\n",
        "\n",
        "\n",
        "# def write_files_to_file(directory, filename, shuffle=False):\n",
        "#     files = get_files(directory, shuffle=shuffle)\n",
        "#     file = open(filename, 'w')\n",
        "#     file.writelines('\\n'.join(files))\n",
        "\n",
        "\n",
        "# def crawl_and_download(download_dir, keyword, filter_type, filename):\n",
        "#     try:\n",
        "#         filters = {'type': filter_type}\n",
        "#         google_crawler = GoogleImageCrawler(parser_threads=2, downloader_threads=4,\n",
        "#                                             storage={'root_dir': download_dir})\n",
        "#         google_crawler.crawl(keyword=keyword, max_num=10,\n",
        "#                              min_size=(200, 200), max_size=(1024, 1024), filters=filters)\n",
        "#     finally:\n",
        "#         write_files_to_file(download_dir, filename)\n",
        "\n",
        "\n",
        "# def parse_args(args=None):\n",
        "#     parser = argparse.ArgumentParser()\n",
        "#     parser.add_argument(\"-d\", \"--download_dir\", type=str, default=\"./downloads/\", help=\"download directory\")\n",
        "#     parser.add_argument(\"-k\", \"--keyword\", type=str, default=\"face\", help=\"search keyword\")\n",
        "#     parser.add_argument(\"-f\", \"--filename\", type=str, default=None, help=\"file to save the list of downloaded files\")\n",
        "#     parser.add_argument(\"-t\", \"--type\", type=str, default='photo', help=\"Photo filter type [photo, face, clipart, \"\n",
        "#                                                                         \"linedrawing, animated]\")\n",
        "#     args = parser.parse_args(args)\n",
        "#     if args.filename is None:\n",
        "#         args.filename = os.path.join(args.download_dir, \"files.txt\")\n",
        "#     return args\n",
        "\n",
        "\n",
        "# def demo():\n",
        "#     args = \"-d download/ -k 'human+face' -t photo -f download/files.txt\".split()\n",
        "#     args = parse_args(args)\n",
        "#     print(\"Downloading '{}' of type '{}' into the folder '{}'. Final list will be written to the file '{}'\".format(\n",
        "#         args.keyword, args.type, args.download_dir, args.filename))\n",
        "#     crawl_and_download(args.download_dir, args.keyword, args.type, args.filename)\n",
        "\n",
        "\n",
        "# if __name__ == \"__main__\":\n",
        "#     args = parse_args()\n",
        "#     print(\"Downloading '{}' of type '{}' into the folder '{}'. Final list will be written to the file '{}'\".format(\n",
        "#         args.keyword, args.type, args.download_dir, args.filename))\n",
        "#     crawl_and_download(args.download_dir, args.keyword, args.type, args.filename)"
      ],
      "execution_count": null,
      "outputs": []
    },
    {
      "cell_type": "code",
      "metadata": {
        "id": "VmHCYdNtmhUx",
        "colab_type": "code",
        "colab": {}
      },
      "source": [
        "# %reload_ext autoreload\n",
        "# %autoreload 2\n",
        "# %matplotlib inline"
      ],
      "execution_count": null,
      "outputs": []
    },
    {
      "cell_type": "code",
      "metadata": {
        "id": "IE6CPPKcmhzh",
        "colab_type": "code",
        "colab": {}
      },
      "source": [
        "# path = \"/content\""
      ],
      "execution_count": null,
      "outputs": []
    },
    {
      "cell_type": "code",
      "metadata": {
        "id": "ldbXni5Tmnng",
        "colab_type": "code",
        "colab": {}
      },
      "source": [
        "# tfms = get_transforms(do_flip=False)\n",
        "# data = (ImageList.from_folder(path)\n",
        "#         .split_by_rand_pct()\n",
        "#         .label_from_folder()\n",
        "#         .transform(tfms, size=224)\n",
        "#         .databunch()\n",
        "#         .normalize(imagenet_stats))"
      ],
      "execution_count": null,
      "outputs": []
    },
    {
      "cell_type": "code",
      "metadata": {
        "id": "oDsvWyCsnGZx",
        "colab_type": "code",
        "colab": {}
      },
      "source": [
        "# data.show_batch(rows=3, figsize=(10,8))"
      ],
      "execution_count": null,
      "outputs": []
    },
    {
      "cell_type": "markdown",
      "metadata": {
        "id": "ZQL89DkYhENx",
        "colab_type": "text"
      },
      "source": [
        "## Classifier Training\n",
        "https://colab.research.google.com/github/tensorflow/hub/blob/master/examples/colab/tf2_image_retraining.ipynb#scrollTo=RaJW3XrPyFiF"
      ]
    },
    {
      "cell_type": "code",
      "metadata": {
        "id": "x1bA5CZ_kyZS",
        "colab_type": "code",
        "colab": {
          "base_uri": "https://localhost:8080/",
          "height": 35
        },
        "outputId": "df6329fe-c6d3-4693-a9a5-e6c6836a4466"
      },
      "source": [
        "!ls '/content/downloads'"
      ],
      "execution_count": null,
      "outputs": [
        {
          "output_type": "stream",
          "text": [
            "Agaricus  Amanita  Boletus  Cantharellus  Laetiporus  Macrolepiota  Pleurotus\n"
          ],
          "name": "stdout"
        }
      ]
    },
    {
      "cell_type": "code",
      "metadata": {
        "id": "_DKhUd6ym6HQ",
        "colab_type": "code",
        "colab": {
          "base_uri": "https://localhost:8080/",
          "height": 138
        },
        "outputId": "f33c53e8-db11-4b20-b416-47be9dee0214"
      },
      "source": [
        "import itertools\n",
        "import os\n",
        "import matplotlib.pylab as plt\n",
        "import numpy as np\n",
        "import tensorflow as tf\n",
        "import tensorflow_hub as hub\n",
        "\n",
        "print(\"TF version:\", tf.__version__)\n",
        "print(\"Hub version:\", hub.__version__)\n",
        "print(\"GPU is\", \"available\" if tf.test.is_gpu_available() else \"NOT AVAILABLE\")\n",
        "tf.__version__"
      ],
      "execution_count": null,
      "outputs": [
        {
          "output_type": "stream",
          "text": [
            "TF version: 2.2.0\n",
            "Hub version: 0.8.0\n",
            "WARNING:tensorflow:From <ipython-input-24-c1ec46b96bb3>:10: is_gpu_available (from tensorflow.python.framework.test_util) is deprecated and will be removed in a future version.\n",
            "Instructions for updating:\n",
            "Use `tf.config.list_physical_devices('GPU')` instead.\n",
            "GPU is NOT AVAILABLE\n"
          ],
          "name": "stdout"
        },
        {
          "output_type": "execute_result",
          "data": {
            "application/vnd.google.colaboratory.intrinsic": {
              "type": "string"
            },
            "text/plain": [
              "'2.2.0'"
            ]
          },
          "metadata": {
            "tags": []
          },
          "execution_count": 24
        }
      ]
    },
    {
      "cell_type": "markdown",
      "metadata": {
        "id": "Tp4TKzIIqoey",
        "colab_type": "text"
      },
      "source": [
        "### Pretrained model selection"
      ]
    },
    {
      "cell_type": "code",
      "metadata": {
        "id": "hx98RVY3n50h",
        "colab_type": "code",
        "colab": {
          "base_uri": "https://localhost:8080/",
          "height": 35
        },
        "outputId": "5ed703e4-01ca-4cbc-86f5-460ece676195"
      },
      "source": [
        "module_selection = (\"mobilenet_v2_100_224\", 224) #@param [\"(\\\"mobilenet_v2_100_224\\\", 224)\", \"(\\\"inception_v3\\\", 299)\"] {type:\"raw\", allow-input: true}\n",
        "handle_base, pixels = module_selection\n",
        "MODULE_HANDLE =\"https://tfhub.dev/google/imagenet/{}/feature_vector/4\".format(handle_base)\n",
        "IMAGE_SIZE = (pixels, pixels)\n",
        "print(\"Using {} with input size {}\".format(MODULE_HANDLE, IMAGE_SIZE))\n",
        "\n",
        "BATCH_SIZE = 32 #@param {type:\"integer\"}"
      ],
      "execution_count": null,
      "outputs": [
        {
          "output_type": "stream",
          "text": [
            "Using https://tfhub.dev/google/imagenet/mobilenet_v2_100_224/feature_vector/4 with input size (224, 224)\n"
          ],
          "name": "stdout"
        }
      ]
    },
    {
      "cell_type": "markdown",
      "metadata": {
        "id": "MxE_0PrcqwNQ",
        "colab_type": "text"
      },
      "source": [
        "### Dataset setup"
      ]
    },
    {
      "cell_type": "code",
      "metadata": {
        "id": "vJ1Bg8BFnUtg",
        "colab_type": "code",
        "colab": {}
      },
      "source": [
        "data_dir = '/content/downloads'"
      ],
      "execution_count": null,
      "outputs": []
    },
    {
      "cell_type": "code",
      "metadata": {
        "id": "7y9WvNUrosaw",
        "colab_type": "code",
        "colab": {
          "base_uri": "https://localhost:8080/",
          "height": 52
        },
        "outputId": "eb1b4d1b-04e9-4d11-832e-d6a76d4fb14b"
      },
      "source": [
        "datagen_kwargs = dict(rescale=1./255, validation_split=.20)\n",
        "dataflow_kwargs = dict(target_size=IMAGE_SIZE, batch_size=BATCH_SIZE,\n",
        "                   interpolation=\"bilinear\")\n",
        "\n",
        "valid_datagen = tf.keras.preprocessing.image.ImageDataGenerator(\n",
        "    **datagen_kwargs)\n",
        "valid_generator = valid_datagen.flow_from_directory(\n",
        "    data_dir, subset=\"validation\", shuffle=False, **dataflow_kwargs)\n",
        "\n",
        "do_data_augmentation = True #@param {type:\"boolean\"}\n",
        "if do_data_augmentation:\n",
        "  train_datagen = tf.keras.preprocessing.image.ImageDataGenerator(\n",
        "      rotation_range=40,\n",
        "      horizontal_flip=True,\n",
        "      width_shift_range=0.2, height_shift_range=0.2,\n",
        "      shear_range=0.2, zoom_range=0.2,\n",
        "      **datagen_kwargs)\n",
        "else:\n",
        "  train_datagen = valid_datagen\n",
        "train_generator = train_datagen.flow_from_directory(\n",
        "    data_dir, subset=\"training\", shuffle=True, **dataflow_kwargs)"
      ],
      "execution_count": null,
      "outputs": [
        {
          "output_type": "stream",
          "text": [
            "Found 70 images belonging to 7 classes.\n",
            "Found 280 images belonging to 7 classes.\n"
          ],
          "name": "stdout"
        }
      ]
    },
    {
      "cell_type": "code",
      "metadata": {
        "id": "ZOBYeKlZuHfJ",
        "colab_type": "code",
        "colab": {}
      },
      "source": [
        "# labels = (train_generator.class_indices)\n",
        "# print(labels)"
      ],
      "execution_count": null,
      "outputs": []
    },
    {
      "cell_type": "markdown",
      "metadata": {
        "id": "MhaovSTBq3mh",
        "colab_type": "text"
      },
      "source": [
        "### Model definition"
      ]
    },
    {
      "cell_type": "code",
      "metadata": {
        "id": "MYNRsXJwo8I2",
        "colab_type": "code",
        "colab": {}
      },
      "source": [
        "do_fine_tuning = True #@param {type:\"boolean\"}"
      ],
      "execution_count": null,
      "outputs": []
    },
    {
      "cell_type": "code",
      "metadata": {
        "id": "FfPn5jNbpBrQ",
        "colab_type": "code",
        "colab": {
          "base_uri": "https://localhost:8080/",
          "height": 276
        },
        "outputId": "76182700-7474-4707-b7d6-c36d4c7d3e54"
      },
      "source": [
        "print(\"Building model with\", MODULE_HANDLE)\n",
        "model = tf.keras.Sequential([\n",
        "    # Explicitly define the input shape so the model can be properly\n",
        "    # loaded by the TFLiteConverter\n",
        "    tf.keras.layers.InputLayer(input_shape=IMAGE_SIZE + (3,)),\n",
        "    hub.KerasLayer(MODULE_HANDLE, trainable=do_fine_tuning),\n",
        "    tf.keras.layers.Dropout(rate=0.2),\n",
        "    tf.keras.layers.Dense(train_generator.num_classes,\n",
        "                          kernel_regularizer=tf.keras.regularizers.l2(0.0001))\n",
        "])\n",
        "model.build((None,)+IMAGE_SIZE+(3,))\n",
        "model.summary()"
      ],
      "execution_count": null,
      "outputs": [
        {
          "output_type": "stream",
          "text": [
            "Building model with https://tfhub.dev/google/imagenet/mobilenet_v2_100_224/feature_vector/4\n",
            "Model: \"sequential\"\n",
            "_________________________________________________________________\n",
            "Layer (type)                 Output Shape              Param #   \n",
            "=================================================================\n",
            "keras_layer (KerasLayer)     (None, 1280)              2257984   \n",
            "_________________________________________________________________\n",
            "dropout (Dropout)            (None, 1280)              0         \n",
            "_________________________________________________________________\n",
            "dense (Dense)                (None, 7)                 8967      \n",
            "=================================================================\n",
            "Total params: 2,266,951\n",
            "Trainable params: 2,232,839\n",
            "Non-trainable params: 34,112\n",
            "_________________________________________________________________\n"
          ],
          "name": "stdout"
        }
      ]
    },
    {
      "cell_type": "markdown",
      "metadata": {
        "id": "71n7RLimq7Bg",
        "colab_type": "text"
      },
      "source": [
        "### Training, Evaluation, Save Model"
      ]
    },
    {
      "cell_type": "code",
      "metadata": {
        "id": "8Nju4FyhpLef",
        "colab_type": "code",
        "colab": {}
      },
      "source": [
        "model.compile(\n",
        "  optimizer=tf.keras.optimizers.SGD(lr=0.005, momentum=0.9), \n",
        "  loss=tf.keras.losses.CategoricalCrossentropy(from_logits=True, label_smoothing=0.1),\n",
        "  metrics=['accuracy'])"
      ],
      "execution_count": null,
      "outputs": []
    },
    {
      "cell_type": "code",
      "metadata": {
        "id": "0Q1L2OnRpN1g",
        "colab_type": "code",
        "colab": {
          "base_uri": "https://localhost:8080/",
          "height": 1000
        },
        "outputId": "dcb0a2af-cf4b-42c6-9073-9d90d2c2f1dc"
      },
      "source": [
        "steps_per_epoch = train_generator.samples // train_generator.batch_size\n",
        "validation_steps = valid_generator.samples // valid_generator.batch_size\n",
        "hist = model.fit(\n",
        "    train_generator,\n",
        "    epochs=5, steps_per_epoch=steps_per_epoch,\n",
        "    validation_data=valid_generator,\n",
        "    validation_steps=validation_steps).history"
      ],
      "execution_count": null,
      "outputs": [
        {
          "output_type": "stream",
          "text": [
            "Epoch 1/5\n",
            "2/8 [======>.......................] - ETA: 16s - loss: 2.3371 - accuracy: 0.1094"
          ],
          "name": "stdout"
        },
        {
          "output_type": "error",
          "ename": "UnknownError",
          "evalue": "ignored",
          "traceback": [
            "\u001b[0;31m---------------------------------------------------------------------------\u001b[0m",
            "\u001b[0;31mUnknownError\u001b[0m                              Traceback (most recent call last)",
            "\u001b[0;32m<ipython-input-32-3638ccb58fa8>\u001b[0m in \u001b[0;36m<module>\u001b[0;34m()\u001b[0m\n\u001b[1;32m      5\u001b[0m     \u001b[0mepochs\u001b[0m\u001b[0;34m=\u001b[0m\u001b[0;36m5\u001b[0m\u001b[0;34m,\u001b[0m \u001b[0msteps_per_epoch\u001b[0m\u001b[0;34m=\u001b[0m\u001b[0msteps_per_epoch\u001b[0m\u001b[0;34m,\u001b[0m\u001b[0;34m\u001b[0m\u001b[0;34m\u001b[0m\u001b[0m\n\u001b[1;32m      6\u001b[0m     \u001b[0mvalidation_data\u001b[0m\u001b[0;34m=\u001b[0m\u001b[0mvalid_generator\u001b[0m\u001b[0;34m,\u001b[0m\u001b[0;34m\u001b[0m\u001b[0;34m\u001b[0m\u001b[0m\n\u001b[0;32m----> 7\u001b[0;31m     validation_steps=validation_steps).history\n\u001b[0m",
            "\u001b[0;32m/usr/local/lib/python3.6/dist-packages/tensorflow/python/keras/engine/training.py\u001b[0m in \u001b[0;36m_method_wrapper\u001b[0;34m(self, *args, **kwargs)\u001b[0m\n\u001b[1;32m     64\u001b[0m   \u001b[0;32mdef\u001b[0m \u001b[0m_method_wrapper\u001b[0m\u001b[0;34m(\u001b[0m\u001b[0mself\u001b[0m\u001b[0;34m,\u001b[0m \u001b[0;34m*\u001b[0m\u001b[0margs\u001b[0m\u001b[0;34m,\u001b[0m \u001b[0;34m**\u001b[0m\u001b[0mkwargs\u001b[0m\u001b[0;34m)\u001b[0m\u001b[0;34m:\u001b[0m\u001b[0;34m\u001b[0m\u001b[0;34m\u001b[0m\u001b[0m\n\u001b[1;32m     65\u001b[0m     \u001b[0;32mif\u001b[0m \u001b[0;32mnot\u001b[0m \u001b[0mself\u001b[0m\u001b[0;34m.\u001b[0m\u001b[0m_in_multi_worker_mode\u001b[0m\u001b[0;34m(\u001b[0m\u001b[0;34m)\u001b[0m\u001b[0;34m:\u001b[0m  \u001b[0;31m# pylint: disable=protected-access\u001b[0m\u001b[0;34m\u001b[0m\u001b[0;34m\u001b[0m\u001b[0m\n\u001b[0;32m---> 66\u001b[0;31m       \u001b[0;32mreturn\u001b[0m \u001b[0mmethod\u001b[0m\u001b[0;34m(\u001b[0m\u001b[0mself\u001b[0m\u001b[0;34m,\u001b[0m \u001b[0;34m*\u001b[0m\u001b[0margs\u001b[0m\u001b[0;34m,\u001b[0m \u001b[0;34m**\u001b[0m\u001b[0mkwargs\u001b[0m\u001b[0;34m)\u001b[0m\u001b[0;34m\u001b[0m\u001b[0;34m\u001b[0m\u001b[0m\n\u001b[0m\u001b[1;32m     67\u001b[0m \u001b[0;34m\u001b[0m\u001b[0m\n\u001b[1;32m     68\u001b[0m     \u001b[0;31m# Running inside `run_distribute_coordinator` already.\u001b[0m\u001b[0;34m\u001b[0m\u001b[0;34m\u001b[0m\u001b[0;34m\u001b[0m\u001b[0m\n",
            "\u001b[0;32m/usr/local/lib/python3.6/dist-packages/tensorflow/python/keras/engine/training.py\u001b[0m in \u001b[0;36mfit\u001b[0;34m(self, x, y, batch_size, epochs, verbose, callbacks, validation_split, validation_data, shuffle, class_weight, sample_weight, initial_epoch, steps_per_epoch, validation_steps, validation_batch_size, validation_freq, max_queue_size, workers, use_multiprocessing)\u001b[0m\n\u001b[1;32m    846\u001b[0m                 batch_size=batch_size):\n\u001b[1;32m    847\u001b[0m               \u001b[0mcallbacks\u001b[0m\u001b[0;34m.\u001b[0m\u001b[0mon_train_batch_begin\u001b[0m\u001b[0;34m(\u001b[0m\u001b[0mstep\u001b[0m\u001b[0;34m)\u001b[0m\u001b[0;34m\u001b[0m\u001b[0;34m\u001b[0m\u001b[0m\n\u001b[0;32m--> 848\u001b[0;31m               \u001b[0mtmp_logs\u001b[0m \u001b[0;34m=\u001b[0m \u001b[0mtrain_function\u001b[0m\u001b[0;34m(\u001b[0m\u001b[0miterator\u001b[0m\u001b[0;34m)\u001b[0m\u001b[0;34m\u001b[0m\u001b[0;34m\u001b[0m\u001b[0m\n\u001b[0m\u001b[1;32m    849\u001b[0m               \u001b[0;31m# Catch OutOfRangeError for Datasets of unknown size.\u001b[0m\u001b[0;34m\u001b[0m\u001b[0;34m\u001b[0m\u001b[0;34m\u001b[0m\u001b[0m\n\u001b[1;32m    850\u001b[0m               \u001b[0;31m# This blocks until the batch has finished executing.\u001b[0m\u001b[0;34m\u001b[0m\u001b[0;34m\u001b[0m\u001b[0;34m\u001b[0m\u001b[0m\n",
            "\u001b[0;32m/usr/local/lib/python3.6/dist-packages/tensorflow/python/eager/def_function.py\u001b[0m in \u001b[0;36m__call__\u001b[0;34m(self, *args, **kwds)\u001b[0m\n\u001b[1;32m    578\u001b[0m         \u001b[0mxla_context\u001b[0m\u001b[0;34m.\u001b[0m\u001b[0mExit\u001b[0m\u001b[0;34m(\u001b[0m\u001b[0;34m)\u001b[0m\u001b[0;34m\u001b[0m\u001b[0;34m\u001b[0m\u001b[0m\n\u001b[1;32m    579\u001b[0m     \u001b[0;32melse\u001b[0m\u001b[0;34m:\u001b[0m\u001b[0;34m\u001b[0m\u001b[0;34m\u001b[0m\u001b[0m\n\u001b[0;32m--> 580\u001b[0;31m       \u001b[0mresult\u001b[0m \u001b[0;34m=\u001b[0m \u001b[0mself\u001b[0m\u001b[0;34m.\u001b[0m\u001b[0m_call\u001b[0m\u001b[0;34m(\u001b[0m\u001b[0;34m*\u001b[0m\u001b[0margs\u001b[0m\u001b[0;34m,\u001b[0m \u001b[0;34m**\u001b[0m\u001b[0mkwds\u001b[0m\u001b[0;34m)\u001b[0m\u001b[0;34m\u001b[0m\u001b[0;34m\u001b[0m\u001b[0m\n\u001b[0m\u001b[1;32m    581\u001b[0m \u001b[0;34m\u001b[0m\u001b[0m\n\u001b[1;32m    582\u001b[0m     \u001b[0;32mif\u001b[0m \u001b[0mtracing_count\u001b[0m \u001b[0;34m==\u001b[0m \u001b[0mself\u001b[0m\u001b[0;34m.\u001b[0m\u001b[0m_get_tracing_count\u001b[0m\u001b[0;34m(\u001b[0m\u001b[0;34m)\u001b[0m\u001b[0;34m:\u001b[0m\u001b[0;34m\u001b[0m\u001b[0;34m\u001b[0m\u001b[0m\n",
            "\u001b[0;32m/usr/local/lib/python3.6/dist-packages/tensorflow/python/eager/def_function.py\u001b[0m in \u001b[0;36m_call\u001b[0;34m(self, *args, **kwds)\u001b[0m\n\u001b[1;32m    609\u001b[0m       \u001b[0;31m# In this case we have created variables on the first call, so we run the\u001b[0m\u001b[0;34m\u001b[0m\u001b[0;34m\u001b[0m\u001b[0;34m\u001b[0m\u001b[0m\n\u001b[1;32m    610\u001b[0m       \u001b[0;31m# defunned version which is guaranteed to never create variables.\u001b[0m\u001b[0;34m\u001b[0m\u001b[0;34m\u001b[0m\u001b[0;34m\u001b[0m\u001b[0m\n\u001b[0;32m--> 611\u001b[0;31m       \u001b[0;32mreturn\u001b[0m \u001b[0mself\u001b[0m\u001b[0;34m.\u001b[0m\u001b[0m_stateless_fn\u001b[0m\u001b[0;34m(\u001b[0m\u001b[0;34m*\u001b[0m\u001b[0margs\u001b[0m\u001b[0;34m,\u001b[0m \u001b[0;34m**\u001b[0m\u001b[0mkwds\u001b[0m\u001b[0;34m)\u001b[0m  \u001b[0;31m# pylint: disable=not-callable\u001b[0m\u001b[0;34m\u001b[0m\u001b[0;34m\u001b[0m\u001b[0m\n\u001b[0m\u001b[1;32m    612\u001b[0m     \u001b[0;32melif\u001b[0m \u001b[0mself\u001b[0m\u001b[0;34m.\u001b[0m\u001b[0m_stateful_fn\u001b[0m \u001b[0;32mis\u001b[0m \u001b[0;32mnot\u001b[0m \u001b[0;32mNone\u001b[0m\u001b[0;34m:\u001b[0m\u001b[0;34m\u001b[0m\u001b[0;34m\u001b[0m\u001b[0m\n\u001b[1;32m    613\u001b[0m       \u001b[0;31m# Release the lock early so that multiple threads can perform the call\u001b[0m\u001b[0;34m\u001b[0m\u001b[0;34m\u001b[0m\u001b[0;34m\u001b[0m\u001b[0m\n",
            "\u001b[0;32m/usr/local/lib/python3.6/dist-packages/tensorflow/python/eager/function.py\u001b[0m in \u001b[0;36m__call__\u001b[0;34m(self, *args, **kwargs)\u001b[0m\n\u001b[1;32m   2418\u001b[0m     \u001b[0;32mwith\u001b[0m \u001b[0mself\u001b[0m\u001b[0;34m.\u001b[0m\u001b[0m_lock\u001b[0m\u001b[0;34m:\u001b[0m\u001b[0;34m\u001b[0m\u001b[0;34m\u001b[0m\u001b[0m\n\u001b[1;32m   2419\u001b[0m       \u001b[0mgraph_function\u001b[0m\u001b[0;34m,\u001b[0m \u001b[0margs\u001b[0m\u001b[0;34m,\u001b[0m \u001b[0mkwargs\u001b[0m \u001b[0;34m=\u001b[0m \u001b[0mself\u001b[0m\u001b[0;34m.\u001b[0m\u001b[0m_maybe_define_function\u001b[0m\u001b[0;34m(\u001b[0m\u001b[0margs\u001b[0m\u001b[0;34m,\u001b[0m \u001b[0mkwargs\u001b[0m\u001b[0;34m)\u001b[0m\u001b[0;34m\u001b[0m\u001b[0;34m\u001b[0m\u001b[0m\n\u001b[0;32m-> 2420\u001b[0;31m     \u001b[0;32mreturn\u001b[0m \u001b[0mgraph_function\u001b[0m\u001b[0;34m.\u001b[0m\u001b[0m_filtered_call\u001b[0m\u001b[0;34m(\u001b[0m\u001b[0margs\u001b[0m\u001b[0;34m,\u001b[0m \u001b[0mkwargs\u001b[0m\u001b[0;34m)\u001b[0m  \u001b[0;31m# pylint: disable=protected-access\u001b[0m\u001b[0;34m\u001b[0m\u001b[0;34m\u001b[0m\u001b[0m\n\u001b[0m\u001b[1;32m   2421\u001b[0m \u001b[0;34m\u001b[0m\u001b[0m\n\u001b[1;32m   2422\u001b[0m   \u001b[0;34m@\u001b[0m\u001b[0mproperty\u001b[0m\u001b[0;34m\u001b[0m\u001b[0;34m\u001b[0m\u001b[0m\n",
            "\u001b[0;32m/usr/local/lib/python3.6/dist-packages/tensorflow/python/eager/function.py\u001b[0m in \u001b[0;36m_filtered_call\u001b[0;34m(self, args, kwargs)\u001b[0m\n\u001b[1;32m   1663\u001b[0m          if isinstance(t, (ops.Tensor,\n\u001b[1;32m   1664\u001b[0m                            resource_variable_ops.BaseResourceVariable))),\n\u001b[0;32m-> 1665\u001b[0;31m         self.captured_inputs)\n\u001b[0m\u001b[1;32m   1666\u001b[0m \u001b[0;34m\u001b[0m\u001b[0m\n\u001b[1;32m   1667\u001b[0m   \u001b[0;32mdef\u001b[0m \u001b[0m_call_flat\u001b[0m\u001b[0;34m(\u001b[0m\u001b[0mself\u001b[0m\u001b[0;34m,\u001b[0m \u001b[0margs\u001b[0m\u001b[0;34m,\u001b[0m \u001b[0mcaptured_inputs\u001b[0m\u001b[0;34m,\u001b[0m \u001b[0mcancellation_manager\u001b[0m\u001b[0;34m=\u001b[0m\u001b[0;32mNone\u001b[0m\u001b[0;34m)\u001b[0m\u001b[0;34m:\u001b[0m\u001b[0;34m\u001b[0m\u001b[0;34m\u001b[0m\u001b[0m\n",
            "\u001b[0;32m/usr/local/lib/python3.6/dist-packages/tensorflow/python/eager/function.py\u001b[0m in \u001b[0;36m_call_flat\u001b[0;34m(self, args, captured_inputs, cancellation_manager)\u001b[0m\n\u001b[1;32m   1744\u001b[0m       \u001b[0;31m# No tape is watching; skip to running the function.\u001b[0m\u001b[0;34m\u001b[0m\u001b[0;34m\u001b[0m\u001b[0;34m\u001b[0m\u001b[0m\n\u001b[1;32m   1745\u001b[0m       return self._build_call_outputs(self._inference_function.call(\n\u001b[0;32m-> 1746\u001b[0;31m           ctx, args, cancellation_manager=cancellation_manager))\n\u001b[0m\u001b[1;32m   1747\u001b[0m     forward_backward = self._select_forward_and_backward_functions(\n\u001b[1;32m   1748\u001b[0m         \u001b[0margs\u001b[0m\u001b[0;34m,\u001b[0m\u001b[0;34m\u001b[0m\u001b[0;34m\u001b[0m\u001b[0m\n",
            "\u001b[0;32m/usr/local/lib/python3.6/dist-packages/tensorflow/python/eager/function.py\u001b[0m in \u001b[0;36mcall\u001b[0;34m(self, ctx, args, cancellation_manager)\u001b[0m\n\u001b[1;32m    596\u001b[0m               \u001b[0minputs\u001b[0m\u001b[0;34m=\u001b[0m\u001b[0margs\u001b[0m\u001b[0;34m,\u001b[0m\u001b[0;34m\u001b[0m\u001b[0;34m\u001b[0m\u001b[0m\n\u001b[1;32m    597\u001b[0m               \u001b[0mattrs\u001b[0m\u001b[0;34m=\u001b[0m\u001b[0mattrs\u001b[0m\u001b[0;34m,\u001b[0m\u001b[0;34m\u001b[0m\u001b[0;34m\u001b[0m\u001b[0m\n\u001b[0;32m--> 598\u001b[0;31m               ctx=ctx)\n\u001b[0m\u001b[1;32m    599\u001b[0m         \u001b[0;32melse\u001b[0m\u001b[0;34m:\u001b[0m\u001b[0;34m\u001b[0m\u001b[0;34m\u001b[0m\u001b[0m\n\u001b[1;32m    600\u001b[0m           outputs = execute.execute_with_cancellation(\n",
            "\u001b[0;32m/usr/local/lib/python3.6/dist-packages/tensorflow/python/eager/execute.py\u001b[0m in \u001b[0;36mquick_execute\u001b[0;34m(op_name, num_outputs, inputs, attrs, ctx, name)\u001b[0m\n\u001b[1;32m     58\u001b[0m     \u001b[0mctx\u001b[0m\u001b[0;34m.\u001b[0m\u001b[0mensure_initialized\u001b[0m\u001b[0;34m(\u001b[0m\u001b[0;34m)\u001b[0m\u001b[0;34m\u001b[0m\u001b[0;34m\u001b[0m\u001b[0m\n\u001b[1;32m     59\u001b[0m     tensors = pywrap_tfe.TFE_Py_Execute(ctx._handle, device_name, op_name,\n\u001b[0;32m---> 60\u001b[0;31m                                         inputs, attrs, num_outputs)\n\u001b[0m\u001b[1;32m     61\u001b[0m   \u001b[0;32mexcept\u001b[0m \u001b[0mcore\u001b[0m\u001b[0;34m.\u001b[0m\u001b[0m_NotOkStatusException\u001b[0m \u001b[0;32mas\u001b[0m \u001b[0me\u001b[0m\u001b[0;34m:\u001b[0m\u001b[0;34m\u001b[0m\u001b[0;34m\u001b[0m\u001b[0m\n\u001b[1;32m     62\u001b[0m     \u001b[0;32mif\u001b[0m \u001b[0mname\u001b[0m \u001b[0;32mis\u001b[0m \u001b[0;32mnot\u001b[0m \u001b[0;32mNone\u001b[0m\u001b[0;34m:\u001b[0m\u001b[0;34m\u001b[0m\u001b[0;34m\u001b[0m\u001b[0m\n",
            "\u001b[0;31mUnknownError\u001b[0m:  UnidentifiedImageError: cannot identify image file <_io.BytesIO object at 0x7f5647c9a728>\nTraceback (most recent call last):\n\n  File \"/usr/local/lib/python3.6/dist-packages/tensorflow/python/ops/script_ops.py\", line 243, in __call__\n    ret = func(*args)\n\n  File \"/usr/local/lib/python3.6/dist-packages/tensorflow/python/autograph/impl/api.py\", line 309, in wrapper\n    return func(*args, **kwargs)\n\n  File \"/usr/local/lib/python3.6/dist-packages/tensorflow/python/data/ops/dataset_ops.py\", line 785, in generator_py_func\n    values = next(generator_state.get_iterator(iterator_id))\n\n  File \"/usr/local/lib/python3.6/dist-packages/tensorflow/python/keras/engine/data_adapter.py\", line 801, in wrapped_generator\n    for data in generator_fn():\n\n  File \"/usr/local/lib/python3.6/dist-packages/tensorflow/python/keras/engine/data_adapter.py\", line 932, in generator_fn\n    yield x[i]\n\n  File \"/usr/local/lib/python3.6/dist-packages/keras_preprocessing/image/iterator.py\", line 65, in __getitem__\n    return self._get_batches_of_transformed_samples(index_array)\n\n  File \"/usr/local/lib/python3.6/dist-packages/keras_preprocessing/image/iterator.py\", line 230, in _get_batches_of_transformed_samples\n    interpolation=self.interpolation)\n\n  File \"/usr/local/lib/python3.6/dist-packages/keras_preprocessing/image/utils.py\", line 114, in load_img\n    img = pil_image.open(io.BytesIO(f.read()))\n\n  File \"/usr/local/lib/python3.6/dist-packages/PIL/Image.py\", line 2862, in open\n    \"cannot identify image file %r\" % (filename if filename else fp)\n\nPIL.UnidentifiedImageError: cannot identify image file <_io.BytesIO object at 0x7f5647c9a728>\n\n\n\t [[{{node PyFunc}}]]\n\t [[IteratorGetNext]] [Op:__inference_train_function_23782]\n\nFunction call stack:\ntrain_function\n"
          ]
        }
      ]
    },
    {
      "cell_type": "code",
      "metadata": {
        "id": "SwU3FElIpPXg",
        "colab_type": "code",
        "colab": {}
      },
      "source": [
        "plt.figure()\n",
        "plt.ylabel(\"Loss (training and validation)\")\n",
        "plt.xlabel(\"Training Steps\")\n",
        "plt.ylim([0,2])\n",
        "plt.plot(hist[\"loss\"])\n",
        "plt.plot(hist[\"val_loss\"])\n",
        "plt.legend()\n",
        "\n",
        "plt.figure()\n",
        "plt.ylabel(\"Accuracy (training and validation)\")\n",
        "plt.xlabel(\"Training Steps\")\n",
        "plt.ylim([0,1])\n",
        "plt.plot(hist[\"accuracy\"])\n",
        "plt.plot(hist[\"val_accuracy\"])\n",
        "plt.legend()"
      ],
      "execution_count": null,
      "outputs": []
    },
    {
      "cell_type": "code",
      "metadata": {
        "id": "DY7shRZ0pS7g",
        "colab_type": "code",
        "colab": {}
      },
      "source": [
        "!rm -r /content/model\n",
        "!mkdir /content/model\n",
        "#saved_model_path = \"/content/model\"\n",
        "saved_model_path = \"/content/keras\"\n",
        "#tf.saved_model.save(model, saved_model_path)\n",
        "tf.keras.models.save_model(model, saved_model_path)\n",
        "# !mkdir /content/drive/My Drive/Mushroom_classifier/keras/\n",
        "# model.save('/content/drive/My Drive/Mushroom_classifier/keras/')"
      ],
      "execution_count": null,
      "outputs": []
    },
    {
      "cell_type": "code",
      "metadata": {
        "id": "0pu2-uV315gd",
        "colab_type": "code",
        "colab": {}
      },
      "source": [
        "!zip -r /content/keras.zip /content/keras\n",
        "from google.colab import files\n",
        "files.download(\"/content/keras.zip\")"
      ],
      "execution_count": null,
      "outputs": []
    },
    {
      "cell_type": "code",
      "metadata": {
        "id": "ICREO_QfYmM-",
        "colab_type": "code",
        "colab": {}
      },
      "source": [
        "!zip -r /content/model.zip /content/model"
      ],
      "execution_count": null,
      "outputs": []
    },
    {
      "cell_type": "code",
      "metadata": {
        "id": "SwPtZfASZWTs",
        "colab_type": "code",
        "colab": {}
      },
      "source": [
        "from google.colab import files\n",
        "files.download(\"/content/model.zip\")"
      ],
      "execution_count": null,
      "outputs": []
    },
    {
      "cell_type": "code",
      "metadata": {
        "id": "jjjbZnixl_9F",
        "colab_type": "code",
        "colab": {}
      },
      "source": [
        "!pip install tensorflowjs"
      ],
      "execution_count": null,
      "outputs": []
    },
    {
      "cell_type": "code",
      "metadata": {
        "id": "_LhZ6OwtaWgj",
        "colab_type": "code",
        "colab": {}
      },
      "source": [
        "# !mkdir /content/model\n",
        "# !cp /content/drive/My\\ Drive/Mushroom_classifier/saved_model.pb /content/model/\n",
        "# !cp -r /content/drive/My\\ Drive/Mushroom_classifier/assets/ /content/model/\n",
        "# !cp -r /content/drive/My\\ Drive/Mushroom_classifier/variables/ /content/model/"
      ],
      "execution_count": null,
      "outputs": []
    },
    {
      "cell_type": "code",
      "metadata": {
        "id": "3yColxjygRrj",
        "colab_type": "code",
        "colab": {}
      },
      "source": [
        "!cp -r /content/drive/My\\ Drive/Mushroom_classifier/keras/ /content/"
      ],
      "execution_count": null,
      "outputs": []
    },
    {
      "cell_type": "code",
      "metadata": {
        "id": "8OUh8gDQmhey",
        "colab_type": "code",
        "colab": {}
      },
      "source": [
        "!mkdir /content/tfjs_model"
      ],
      "execution_count": null,
      "outputs": []
    },
    {
      "cell_type": "code",
      "metadata": {
        "id": "CUbBns6ksg5P",
        "colab_type": "code",
        "colab": {}
      },
      "source": [
        "!cd /content/drive/My\\ Drive/Mushroom_classifier"
      ],
      "execution_count": null,
      "outputs": []
    },
    {
      "cell_type": "code",
      "metadata": {
        "id": "Yia1H6SOsq6u",
        "colab_type": "code",
        "colab": {}
      },
      "source": [
        "!pwd"
      ],
      "execution_count": null,
      "outputs": []
    },
    {
      "cell_type": "code",
      "metadata": {
        "id": "C2oAc-a6O4C1",
        "colab_type": "code",
        "colab": {}
      },
      "source": [
        "input_PATH = \"/content/drive/My Drive/Mushroom_classifier/saved_model.pb\"\n",
        "output_PATH = \"/content/drive/My Drive/Mushroom_classifier/tfjs_model\"\n",
        "# /content/saved_model.pb\n",
        "# /content/tfjs_model"
      ],
      "execution_count": null,
      "outputs": []
    },
    {
      "cell_type": "code",
      "metadata": {
        "id": "1jBeR_bBgp_j",
        "colab_type": "code",
        "colab": {}
      },
      "source": [
        "# `keras` | `tfjs_layers_model` \n",
        "# `keras_saved_model` | `tfjs_layers_model`\n",
        "# `tf_hub` | `tfjs_graph_model`\n",
        "# `tf_saved_model` | `tfjs_graph_model`"
      ],
      "execution_count": null,
      "outputs": []
    },
    {
      "cell_type": "code",
      "metadata": {
        "id": "li4VJuhPmGu-",
        "colab_type": "code",
        "colab": {}
      },
      "source": [
        "!tensorflowjs_converter --input_format=tf_saved_model --output_format=tfjs_graph_model /content/model /content/tfjs_model"
      ],
      "execution_count": null,
      "outputs": []
    },
    {
      "cell_type": "code",
      "metadata": {
        "id": "2edH7eF_kG4f",
        "colab_type": "code",
        "colab": {}
      },
      "source": [
        "!cp -r /content/tfjs_model /content/drive/My\\ Drive/Mushroom_classifier/tfjs_model"
      ],
      "execution_count": null,
      "outputs": []
    },
    {
      "cell_type": "code",
      "metadata": {
        "id": "7zwPsuMQaGvD",
        "colab_type": "code",
        "colab": {}
      },
      "source": [
        "!zip -r /content/tfjs_model.zip /content/tfjs_model\n",
        "from google.colab import files\n",
        "files.download(\"/content/tfjs_model.zip\")"
      ],
      "execution_count": null,
      "outputs": []
    },
    {
      "cell_type": "markdown",
      "metadata": {
        "id": "hgxLp0BouyE7",
        "colab_type": "text"
      },
      "source": [
        "### Optional tensorflow lite\n"
      ]
    }
  ]
}